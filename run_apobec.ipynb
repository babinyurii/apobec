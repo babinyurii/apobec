{
 "cells": [
  {
   "cell_type": "markdown",
   "metadata": {},
   "source": [
    "#### now script takes one of the two arguments to change the position of the nucleotide to count:\n",
    "```python\n",
    "count_first_in_duplex\n",
    "\n",
    "count_second_in_duplex\n",
    "```"
   ]
  },
  {
   "cell_type": "markdown",
   "metadata": {},
   "source": [
    "### to run from the installation use commands below: "
   ]
  },
  {
   "cell_type": "code",
   "execution_count": null,
   "metadata": {},
   "outputs": [],
   "source": [
    "import apobec"
   ]
  },
  {
   "cell_type": "code",
   "execution_count": null,
   "metadata": {},
   "outputs": [],
   "source": [
    "%run -m apobec.count_snp_duplex count_first_in_duplex"
   ]
  },
  {
   "cell_type": "code",
   "execution_count": null,
   "metadata": {},
   "outputs": [],
   "source": [
    "%run -m apobec.count_snp_duplex count_second_in_duplex"
   ]
  },
  {
   "cell_type": "code",
   "execution_count": null,
   "metadata": {},
   "outputs": [],
   "source": [
    "%run -m apobec.create_bars"
   ]
  },
  {
   "cell_type": "code",
   "execution_count": null,
   "metadata": {},
   "outputs": [],
   "source": [
    "%run -m apobec.snp_rate"
   ]
  },
  {
   "cell_type": "code",
   "execution_count": 11,
   "metadata": {},
   "outputs": [
    {
     "name": "stdout",
     "output_type": "stream",
     "text": [
      "\n",
      "               ---------------\n",
      "               job started at 2022-05-30 17:01:40 ...\n",
      "               ---------------\n",
      "               \n"
     ]
    },
    {
     "data": {
      "application/vnd.jupyter.widget-view+json": {
       "model_id": "9a8efbf703f24b6c8211719b771f591d",
       "version_major": 2,
       "version_minor": 0
      },
      "text/plain": [
       "IntProgress(value=0, bar_style='success', max=1)"
      ]
     },
     "metadata": {},
     "output_type": "display_data"
    },
    {
     "name": "stdout",
     "output_type": "stream",
     "text": [
      "\n",
      "    \n",
      "    file processed: 1\n",
      "    time taken: 0.0 hours 0.0 minutes 0 seconds\n",
      "    \n",
      "    the results are in the folder 'output_apobec'\n",
      "    \n",
      "    ---------------\n",
      "    ... job finished at 2022-05-30 17:01:41\n",
      "    ---------------\n",
      "    \n",
      "    \n"
     ]
    }
   ],
   "source": [
    "%run -m apobec.count_cg_to_ta"
   ]
  },
  {
   "cell_type": "code",
   "execution_count": null,
   "metadata": {},
   "outputs": [],
   "source": []
  },
  {
   "cell_type": "code",
   "execution_count": null,
   "metadata": {},
   "outputs": [],
   "source": []
  },
  {
   "cell_type": "code",
   "execution_count": null,
   "metadata": {},
   "outputs": [],
   "source": []
  },
  {
   "cell_type": "code",
   "execution_count": null,
   "metadata": {},
   "outputs": [],
   "source": []
  },
  {
   "cell_type": "code",
   "execution_count": null,
   "metadata": {},
   "outputs": [],
   "source": []
  },
  {
   "cell_type": "code",
   "execution_count": null,
   "metadata": {},
   "outputs": [],
   "source": []
  },
  {
   "cell_type": "markdown",
   "metadata": {},
   "source": [
    "### the commands below are to run from the current folder"
   ]
  },
  {
   "cell_type": "code",
   "execution_count": 4,
   "metadata": {
    "scrolled": false
   },
   "outputs": [
    {
     "name": "stdout",
     "output_type": "stream",
     "text": [
      "\n",
      "               ---------------\n",
      "               job started at 2022-05-16 20:42:41 ...\n",
      "               ---------------\n",
      "               \n"
     ]
    },
    {
     "data": {
      "application/vnd.jupyter.widget-view+json": {
       "model_id": "9e1973b90bdc446f828dba0a687aebe0",
       "version_major": 2,
       "version_minor": 0
      },
      "text/plain": [
       "IntProgress(value=0, bar_style='success', max=7)"
      ]
     },
     "metadata": {},
     "output_type": "display_data"
    },
    {
     "name": "stdout",
     "output_type": "stream",
     "text": [
      "\n",
      "    \n",
      "    file processed: 7\n",
      "    time taken: 0.0 hours 14.0 minutes 26 seconds\n",
      "    \n",
      "    the results are in the folder 'output_apobec'\n",
      "    \n",
      "    ---------------\n",
      "    ... job finished at 2022-05-16 20:57:08\n",
      "    ---------------\n",
      "    \n",
      "    \n"
     ]
    }
   ],
   "source": [
    "%run ./apobec/count_snp_duplex.py count_first_in_duplex"
   ]
  },
  {
   "cell_type": "code",
   "execution_count": 5,
   "metadata": {},
   "outputs": [
    {
     "name": "stdout",
     "output_type": "stream",
     "text": [
      "\n",
      "               ---------------\n",
      "               job started at 2022-05-16 20:57:08 ...\n",
      "               ---------------\n",
      "               \n"
     ]
    },
    {
     "data": {
      "application/vnd.jupyter.widget-view+json": {
       "model_id": "1afcecf4a0e94ff79c5a1cb51defcdc3",
       "version_major": 2,
       "version_minor": 0
      },
      "text/plain": [
       "IntProgress(value=0, bar_style='success', max=7)"
      ]
     },
     "metadata": {},
     "output_type": "display_data"
    },
    {
     "name": "stdout",
     "output_type": "stream",
     "text": [
      "\n",
      "    \n",
      "    file processed: 7\n",
      "    time taken: 0.0 hours 14.0 minutes 26 seconds\n",
      "    \n",
      "    the results are in the folder 'output_apobec'\n",
      "    \n",
      "    ---------------\n",
      "    ... job finished at 2022-05-16 21:11:35\n",
      "    ---------------\n",
      "    \n",
      "    \n"
     ]
    }
   ],
   "source": [
    "%run ./apobec/count_snp_duplex.py count_second_in_duplex"
   ]
  },
  {
   "cell_type": "code",
   "execution_count": 6,
   "metadata": {},
   "outputs": [
    {
     "name": "stdout",
     "output_type": "stream",
     "text": [
      "\n",
      "               ---------------\n",
      "               job started at 2022-05-16 21:11:35 ...\n",
      "               ---------------\n",
      "               \n"
     ]
    },
    {
     "data": {
      "application/vnd.jupyter.widget-view+json": {
       "model_id": "6b825f64404244d9b914a3ec5dad89eb",
       "version_major": 2,
       "version_minor": 0
      },
      "text/plain": [
       "IntProgress(value=0, bar_style='success', max=14)"
      ]
     },
     "metadata": {},
     "output_type": "display_data"
    },
    {
     "name": "stdout",
     "output_type": "stream",
     "text": [
      "\n",
      "    \n",
      "    file processed: 14\n",
      "    time taken: 0.0 hours 0.0 minutes 8 seconds\n",
      "    \n",
      "    the results are in the folder 'output_duplex_plots'\n",
      "    \n",
      "    ---------------\n",
      "    ... job finished at 2022-05-16 21:11:44\n",
      "    ---------------\n",
      "    \n",
      "    \n"
     ]
    }
   ],
   "source": [
    "%run ./apobec/create_bars.py"
   ]
  },
  {
   "cell_type": "code",
   "execution_count": 7,
   "metadata": {},
   "outputs": [
    {
     "name": "stdout",
     "output_type": "stream",
     "text": [
      "\n",
      "               ---------------\n",
      "               job started at 2022-05-16 21:11:44 ...\n",
      "               ---------------\n",
      "               \n",
      "collecting snp...\n"
     ]
    },
    {
     "data": {
      "application/vnd.jupyter.widget-view+json": {
       "model_id": "4a7d534b1f7d49e78b8d45682797b090",
       "version_major": 2,
       "version_minor": 0
      },
      "text/plain": [
       "IntProgress(value=0, bar_style='success', max=7)"
      ]
     },
     "metadata": {},
     "output_type": "display_data"
    },
    {
     "name": "stdout",
     "output_type": "stream",
     "text": [
      "snp collected...\n",
      "plot consctructed...\n",
      "spreadsheet saved...\n",
      "\n",
      "    \n",
      "    file processed: 7\n",
      "    time taken: 0.0 hours 0.0 minutes 12 seconds\n",
      "    \n",
      "    the results are in the folder 'output_apobec'\n",
      "    \n",
      "    note: difference in the output files names \n",
      "    is denoted by the time when script finished its work.\n",
      "    \n",
      "    ---------------\n",
      "    ... job finished at 2022-05-16 21:11:57\n",
      "    ---------------\n",
      "    \n",
      "    \n"
     ]
    }
   ],
   "source": [
    "%run ./apobec/snp_rate.py"
   ]
  }
 ],
 "metadata": {
  "kernelspec": {
   "display_name": "Python 3 (ipykernel)",
   "language": "python",
   "name": "python3"
  },
  "language_info": {
   "codemirror_mode": {
    "name": "ipython",
    "version": 3
   },
   "file_extension": ".py",
   "mimetype": "text/x-python",
   "name": "python",
   "nbconvert_exporter": "python",
   "pygments_lexer": "ipython3",
   "version": "3.9.7"
  }
 },
 "nbformat": 4,
 "nbformat_minor": 2
}
