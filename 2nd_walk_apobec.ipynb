{
 "cells": [
  {
   "cell_type": "code",
   "execution_count": null,
   "metadata": {},
   "outputs": [],
   "source": []
  },
  {
   "cell_type": "markdown",
   "metadata": {},
   "source": [
    "## TODO:\n",
    "- check out if the percent tab is calculated correctly if the form : df / cov * 100 works as you suppose to\n",
    "- add coverage to excel spreadsheet\n",
    "- create bar chart for each excel file\n",
    "- path to input file should be denoted only once in the main(). So that you don't have to change it anywhere in the functions \n",
    "- add time_stamp\n",
    "- add file counter (may be local is better, just counter in the main())\n",
    "- add \n"
   ]
  },
  {
   "cell_type": "code",
   "execution_count": 32,
   "metadata": {},
   "outputs": [],
   "source": [
    "from Bio.SeqIO.FastaIO import SimpleFastaParser  # low level fast fasta parser\n",
    "import matplotlib.pyplot as plt\n",
    "import seaborn as sns\n",
    "import pandas as pd\n",
    "import numpy as np\n",
    "sns.set()\n",
    "import os\n",
    "\n",
    "from ipywidgets import FloatProgress\n",
    "from IPython.display import display\n",
    "\n",
    "    \n",
    "    "
   ]
  },
  {
   "cell_type": "code",
   "execution_count": 2,
   "metadata": {},
   "outputs": [],
   "source": [
    "def get_ref(in_file):\n",
    "    \"\"\"deriving the first record \n",
    "    from the input fasta\n",
    "    \"\"\"\n",
    "    \n",
    "    with open(\"./input_data/\" + in_file) as in_handle:\n",
    "        for record in SimpleFastaParser(in_handle):\n",
    "            # sequence is under the 2nd index in the record's tuple\n",
    "            ref_seq = record[1] \n",
    "            break\n",
    "    \n",
    "    return ref_seq\n",
    "    \n",
    "    "
   ]
  },
  {
   "cell_type": "code",
   "execution_count": 3,
   "metadata": {},
   "outputs": [],
   "source": [
    "def get_duplex_posits(ref_seq, ref_nuc):\n",
    "    \"\"\"takes duplex positions out of the reference string\n",
    "    \"\"\"\n",
    "    nucleotides = ['A', 'T', 'G', 'C']\n",
    "    start = 0\n",
    "    \n",
    "    d = {'start_pos': [], 'stop_pos': [], 'ref_duplex': [] }\n",
    "    \n",
    "    while start != len(ref_seq) - 1:\n",
    "        \n",
    "        if ref_seq[start] == ref_nuc:\n",
    "            first_duplex_nuc = ref_seq[start]\n",
    "            first_duplex_pos = start\n",
    "            \n",
    "            # + 1 to get slice from the next nuc\n",
    "            second_duplex_pos = start + 1\n",
    "            for nuc in ref_seq[start + 1 : ]:\n",
    "                if nuc in nucleotides:\n",
    "                    second_duplex_nuc = nuc\n",
    "                    break\n",
    "                else:\n",
    "                    second_duplex_pos += 1\n",
    "                        \n",
    "            d['start_pos'].append(first_duplex_pos)\n",
    "            d['stop_pos'].append(second_duplex_pos)\n",
    "            d['ref_duplex'].append(first_duplex_nuc + second_duplex_nuc)\n",
    "            # incrementing index to move forward the string\n",
    "            start += 1\n",
    "    \n",
    "        else:\n",
    "            # incrementing anyway\n",
    "            start += 1\n",
    "    \n",
    "    return d\n",
    "                \n",
    "    "
   ]
  },
  {
   "cell_type": "code",
   "execution_count": 4,
   "metadata": {},
   "outputs": [],
   "source": [
    "def create_df(duplex_posits, snp_type):\n",
    "\n",
    "    df = pd.DataFrame(duplex_posits)\n",
    "    \n",
    "    for snp in snp_type:\n",
    "        df[snp] = np.nan\n",
    "    \n",
    "    df.fillna(inplace=True, value=0)\n",
    "    \n",
    "    \n",
    "    \n",
    "    return df\n",
    "    "
   ]
  },
  {
   "cell_type": "code",
   "execution_count": 5,
   "metadata": {},
   "outputs": [],
   "source": [
    "def count_snp(in_file, df, nuc_to_watch):\n",
    "    coverage = 0\n",
    "    \n",
    "    with open(\"./input_data/\" + in_file) as in_handle:\n",
    "        \n",
    "        reads = SimpleFastaParser(in_handle)\n",
    "        for record in reads:\n",
    "            coverage += 1\n",
    "            \n",
    "            read = record[1]\n",
    "            for row in df.index:\n",
    "                if read[df.loc[row, 'start_pos']] != nuc_to_watch and read[df.loc[row, 'start_pos']] != '-' \\\n",
    "                and read[df.loc[row, 'stop_pos']] == df.loc[row, 'ref_duplex'][1]:\n",
    "                    \n",
    "                    snp = read[df.loc[row, 'start_pos']]\n",
    "                    \n",
    "                    df.loc[row, snp] += 1\n",
    "        \n",
    "    return df, coverage\n",
    "    "
   ]
  },
  {
   "cell_type": "code",
   "execution_count": 6,
   "metadata": {},
   "outputs": [],
   "source": [
    "def create_pivot_df(df_snp):\n",
    "    \n",
    "    context_data = df_snp.groupby('ref_duplex').sum()\n",
    "    context_data.drop(['start_pos', 'stop_pos'], inplace=True, axis=1)\n",
    "    \n",
    "    return context_data\n",
    "\n",
    "    \n",
    "    "
   ]
  },
  {
   "cell_type": "code",
   "execution_count": 7,
   "metadata": {},
   "outputs": [],
   "source": [
    "def save_df(f, df_snp, df_duplex_context, df_duplex_context_percent, nuc):\n",
    "    \"\"\"saves dataframes into an excel spreadsheet\n",
    "    \"\"\"\n",
    "    if not os.path.exists(\"./output_apobec\"):\n",
    "        os.mkdir(\"output_apobec\")\n",
    "\n",
    "    file_name = f.rsplit(\".\", 1)[0]\n",
    "    writer = pd.ExcelWriter(\"./output_apobec/\" + file_name + \"__\" + nuc + \"__\" +'.xlsx')\n",
    "    df_snp.to_excel(writer, \"snp\")\n",
    "    df_duplex_context.to_excel(writer, \"context\")\n",
    "    df_duplex_context_percent.to_excel(writer, \"context_percent\")\n",
    "\n",
    "    writer.save()\n"
   ]
  },
  {
   "cell_type": "code",
   "execution_count": 8,
   "metadata": {},
   "outputs": [],
   "source": [
    "def get_input_files_names():\n",
    "    path_to_input = \"./input_data\"\n",
    "    fasta_extensions = [\"fasta\", \"fa\", \"fas\"]\n",
    "    input_files = os.listdir(\"./input_data\")\n",
    "    input_files = [f for f in input_files if f.rsplit(\".\", 1)[-1] in fasta_extensions]\n",
    "     \n",
    "    return input_files\n",
    "    "
   ]
  },
  {
   "cell_type": "code",
   "execution_count": null,
   "metadata": {},
   "outputs": [],
   "source": []
  },
  {
   "cell_type": "markdown",
   "metadata": {},
   "source": [
    "## main()"
   ]
  },
  {
   "cell_type": "markdown",
   "metadata": {},
   "source": [
    "try to decomposite main(). the part which deals with input dir should be a separate func"
   ]
  },
  {
   "cell_type": "code",
   "execution_count": 33,
   "metadata": {},
   "outputs": [],
   "source": [
    "def main():\n",
    "    \n",
    "    nucleotides = [\"A\", \"T\", \"G\", \"C\"]\n",
    "    \n",
    "    if os.path.exists(\"./input_data\"):\n",
    "        input_files = get_input_files_names()\n",
    "        \n",
    "        num_files = len(input_files)\n",
    "        \n",
    "        print(\"job started at : \")\n",
    "        progress_bar = FloatProgress(min=0, max=num_files)\n",
    "        display(progress_bar)\n",
    "    \n",
    "        for f in input_files:\n",
    "            #print(\"processing file '{}'\".format(f))\n",
    "            \n",
    "            for nuc in nucleotides:\n",
    "        \n",
    "                snp_type = nucleotides[:]\n",
    "                snp_type.remove(nuc)\n",
    "    \n",
    "                ref_seq = get_ref(f)\n",
    "    \n",
    "                duplex_posits = get_duplex_posits(ref_seq, nuc)\n",
    "    \n",
    "                df = create_df(duplex_posits, snp_type)\n",
    "    \n",
    "                df_snp, coverage = count_snp(f, df, nuc)\n",
    "\n",
    "                df_duplex_context = create_pivot_df(df_snp)\n",
    "            \n",
    "                df_duplex_context_percent = df_duplex_context / coverage * 100\n",
    "            \n",
    "                save_df(f, df_snp, df_duplex_context, df_duplex_context_percent, nuc)\n",
    "            \n",
    "            progress_bar.value += 1\n",
    "    else:\n",
    "        os.mkdir(\"input_data\")        \n",
    "        \n",
    "        \n",
    "        \n",
    "        \n",
    "        \n",
    "    "
   ]
  },
  {
   "cell_type": "code",
   "execution_count": null,
   "metadata": {},
   "outputs": [
    {
     "name": "stdout",
     "output_type": "stream",
     "text": [
      "job started at : \n"
     ]
    },
    {
     "data": {
      "application/vnd.jupyter.widget-view+json": {
       "model_id": "12cf235450ce47c587911c1a5fdedacd",
       "version_major": 2,
       "version_minor": 0
      },
      "text/plain": [
       "FloatProgress(value=0.0, max=3.0)"
      ]
     },
     "metadata": {},
     "output_type": "display_data"
    }
   ],
   "source": [
    "main()"
   ]
  },
  {
   "cell_type": "code",
   "execution_count": null,
   "metadata": {},
   "outputs": [],
   "source": []
  },
  {
   "cell_type": "code",
   "execution_count": null,
   "metadata": {},
   "outputs": [],
   "source": []
  },
  {
   "cell_type": "code",
   "execution_count": null,
   "metadata": {},
   "outputs": [],
   "source": []
  },
  {
   "cell_type": "code",
   "execution_count": null,
   "metadata": {},
   "outputs": [],
   "source": []
  },
  {
   "cell_type": "code",
   "execution_count": null,
   "metadata": {},
   "outputs": [],
   "source": []
  },
  {
   "cell_type": "code",
   "execution_count": null,
   "metadata": {},
   "outputs": [],
   "source": []
  },
  {
   "cell_type": "code",
   "execution_count": null,
   "metadata": {},
   "outputs": [],
   "source": []
  },
  {
   "cell_type": "code",
   "execution_count": 11,
   "metadata": {},
   "outputs": [],
   "source": [
    "from IPython.display import HTML\n"
   ]
  },
  {
   "cell_type": "code",
   "execution_count": 13,
   "metadata": {},
   "outputs": [
    {
     "data": {
      "text/html": [
       "<script>\n",
       "code_show=true; \n",
       "function code_toggle() {\n",
       " if (code_show){\n",
       " $('div.input').hide();\n",
       " } else {\n",
       " $('div.input').show();\n",
       " }\n",
       " code_show = !code_show\n",
       "} \n",
       "$( document ).ready(code_toggle);\n",
       "</script>\n",
       "The raw code for this IPython notebook is by default hidden for easier reading.\n",
       "To toggle on/off the raw code, click <a href=\"javascript:code_toggle()\">here</a>."
      ],
      "text/plain": [
       "<IPython.core.display.HTML object>"
      ]
     },
     "execution_count": 13,
     "metadata": {},
     "output_type": "execute_result"
    }
   ],
   "source": [
    "HTML('''<script>\n",
    "code_show=true; \n",
    "function code_toggle() {\n",
    " if (code_show){\n",
    " $('div.input').hide();\n",
    " } else {\n",
    " $('div.input').show();\n",
    " }\n",
    " code_show = !code_show\n",
    "} \n",
    "$( document ).ready(code_toggle);\n",
    "</script>\n",
    "The raw code for this IPython notebook is by default hidden for easier reading.\n",
    "To toggle on/off the raw code, click <a href=\"javascript:code_toggle()\">here</a>.''')"
   ]
  },
  {
   "cell_type": "code",
   "execution_count": null,
   "metadata": {},
   "outputs": [],
   "source": []
  },
  {
   "cell_type": "markdown",
   "metadata": {},
   "source": [
    "##  progress bar pattern "
   ]
  },
  {
   "cell_type": "code",
   "execution_count": 31,
   "metadata": {},
   "outputs": [
    {
     "data": {
      "application/vnd.jupyter.widget-view+json": {
       "model_id": "6063ebbcd3d74a8aba8c67e68df36376",
       "version_major": 2,
       "version_minor": 0
      },
      "text/plain": [
       "FloatProgress(value=0.0)"
      ]
     },
     "metadata": {},
     "output_type": "display_data"
    }
   ],
   "source": [
    "from ipywidgets import FloatProgress\n",
    "from IPython.display import display\n",
    "progress_bar = FloatProgress(min=0, max=100)\n",
    "display(progress_bar)\n",
    "\n",
    "from time import sleep\n",
    "\n",
    "\n",
    "# incrementing progress_bar value moves the widget\n",
    "for i in range(100):\n",
    "    progress_bar.value += 1\n",
    "    sleep(1)"
   ]
  },
  {
   "cell_type": "code",
   "execution_count": null,
   "metadata": {},
   "outputs": [],
   "source": []
  },
  {
   "cell_type": "code",
   "execution_count": null,
   "metadata": {},
   "outputs": [],
   "source": []
  },
  {
   "cell_type": "code",
   "execution_count": null,
   "metadata": {},
   "outputs": [],
   "source": []
  },
  {
   "cell_type": "code",
   "execution_count": null,
   "metadata": {},
   "outputs": [],
   "source": []
  }
 ],
 "metadata": {
  "kernelspec": {
   "display_name": "Python 3",
   "language": "python",
   "name": "python3"
  },
  "language_info": {
   "codemirror_mode": {
    "name": "ipython",
    "version": 3
   },
   "file_extension": ".py",
   "mimetype": "text/x-python",
   "name": "python",
   "nbconvert_exporter": "python",
   "pygments_lexer": "ipython3",
   "version": "3.6.5"
  }
 },
 "nbformat": 4,
 "nbformat_minor": 2
}
