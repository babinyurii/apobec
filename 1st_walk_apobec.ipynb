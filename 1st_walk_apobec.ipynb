{
 "cells": [
  {
   "cell_type": "code",
   "execution_count": 1,
   "metadata": {},
   "outputs": [],
   "source": [
    "from Bio.SeqIO.FastaIO import SimpleFastaParser  # low level fast fasta parser\n",
    "import matplotlib.pyplot as plt\n",
    "import seaborn as sns\n",
    "import pandas as pd\n",
    "import numpy as np\n",
    "sns.set()"
   ]
  },
  {
   "cell_type": "markdown",
   "metadata": {},
   "source": [
    "## 1. functions"
   ]
  },
  {
   "cell_type": "code",
   "execution_count": 2,
   "metadata": {},
   "outputs": [],
   "source": [
    "def get_ref(in_file):\n",
    "    \"\"\"deriving the first record \n",
    "    from the input fasta\n",
    "    \"\"\"\n",
    "    \n",
    "    with open(in_file) as in_handle:\n",
    "        for record in SimpleFastaParser(in_handle):\n",
    "            # sequence is under the 2nd index in the record's tuple\n",
    "            ref_seq = record[1] \n",
    "            print(record)\n",
    "            break\n",
    "    \n",
    "    return ref_seq\n",
    "    \n",
    "    "
   ]
  },
  {
   "cell_type": "code",
   "execution_count": 3,
   "metadata": {},
   "outputs": [],
   "source": [
    "def get_duplex_posits(ref_seq, ref_nuc):\n",
    "    \"\"\"takes duplex positions out of the reference string\n",
    "    \"\"\"\n",
    "    nucleotides = ['A', 'T', 'G', 'C']\n",
    "    start = 0\n",
    "    \n",
    "    d = {'start_pos': [], 'stop_pos': [], 'ref_duplex': [] }\n",
    "    \n",
    "    while start != len(ref_seq) - 1:\n",
    "        \n",
    "        if ref_seq[start] == ref_nuc:\n",
    "            first_duplex_nuc = ref_seq[start]\n",
    "            first_duplex_pos = start\n",
    "            \n",
    "            # + 1 to get slice from the next nuc\n",
    "            second_duplex_pos = start + 1\n",
    "            for nuc in ref_seq[start + 1 : ]:\n",
    "                if nuc in nucleotides:\n",
    "                    second_duplex_nuc = nuc\n",
    "                    break\n",
    "                else:\n",
    "                    second_duplex_pos += 1\n",
    "                        \n",
    "            d['start_pos'].append(first_duplex_pos)\n",
    "            d['stop_pos'].append(second_duplex_pos)\n",
    "            d['ref_duplex'].append(first_duplex_nuc + second_duplex_nuc)\n",
    "            # incrementing index to move forward the string\n",
    "            start += 1\n",
    "    \n",
    "        else:\n",
    "            # incrementing anyway\n",
    "            start += 1\n",
    "    \n",
    "    return d\n",
    "                \n",
    "    \n",
    "                    \n"
   ]
  },
  {
   "cell_type": "code",
   "execution_count": 4,
   "metadata": {},
   "outputs": [],
   "source": [
    "def create_df(duplex_posits, snp_type):\n",
    "\n",
    "    df = pd.DataFrame(duplex_posits)\n",
    "    \n",
    "    for snp in snp_type:\n",
    "        df[snp] = np.nan\n",
    "    \n",
    "    df.fillna(inplace=True, value=0)\n",
    "    \n",
    "    \n",
    "    \n",
    "    return df\n",
    "    "
   ]
  },
  {
   "cell_type": "code",
   "execution_count": 5,
   "metadata": {},
   "outputs": [],
   "source": [
    "def collect_snp(in_file, df, nuc_to_watch):\n",
    "    coverage = 0\n",
    "    \n",
    "    with open(in_file) as in_handle:\n",
    "        \n",
    "        reads = SimpleFastaParser(in_handle)\n",
    "        for record in reads:\n",
    "            coverage += 1\n",
    "            \n",
    "            read = record[1]\n",
    "            for row in df.index:\n",
    "                if read[df.loc[row, 'start_pos']] != nuc_to_watch and read[df.loc[row, 'start_pos']] != '-' \\\n",
    "                and read[df.loc[row, 'stop_pos']] == df.loc[row, 'ref_duplex'][1]:\n",
    "                    \n",
    "                    snp = read[df.loc[row, 'start_pos']]\n",
    "                    \n",
    "                    df.loc[row, snp] += 1\n",
    "        \n",
    "    return df, coverage\n",
    "    "
   ]
  },
  {
   "cell_type": "code",
   "execution_count": 16,
   "metadata": {},
   "outputs": [],
   "source": [
    "def create_pivot_df(df_snp):\n",
    "    \n",
    "    context_data = df_snp.groupby('ref_duplex').sum()\n",
    "    context_data.drop(['start_pos', 'stop_pos'], inplace=True, axis=1)\n",
    "    \n",
    "    return context_data\n",
    "\n",
    "    \n",
    "    "
   ]
  },
  {
   "cell_type": "code",
   "execution_count": null,
   "metadata": {},
   "outputs": [],
   "source": []
  },
  {
   "cell_type": "markdown",
   "metadata": {},
   "source": [
    "## 2. main()"
   ]
  },
  {
   "cell_type": "code",
   "execution_count": 17,
   "metadata": {},
   "outputs": [],
   "source": [
    "def main(in_file):\n",
    "    \n",
    "    nuc_to_watch = \"C\"\n",
    "    \n",
    "    snp_type = ['A', 'T', 'G']\n",
    "    \n",
    "    ref_seq = get_ref(in_file)\n",
    "    \n",
    "    duplex_posits = get_duplex_posits(ref_seq, nuc_to_watch)\n",
    "    \n",
    "    \n",
    "    df = create_df(duplex_posits, snp_type)\n",
    "    \n",
    "    \n",
    "    df_snp, coverage = collect_snp(in_file, df, nuc_to_watch)\n",
    "\n",
    "    df_duplex_context = create_pivot_df(df_snp)\n",
    "    \n",
    "    \n",
    "    return df_snp, df_duplex_context, coverage\n",
    "    \n",
    "    \n",
    "    \n",
    "    "
   ]
  },
  {
   "cell_type": "code",
   "execution_count": 18,
   "metadata": {
    "scrolled": false
   },
   "outputs": [
    {
     "name": "stdout",
     "output_type": "stream",
     "text": [
      "('HBV_0 Hepatitis B virus (strain ayw) genome', 'AT-G-G-C-T-G-CTA-G-G-CTGTGCTGCCAACTGG-ATCCTGCGC----GGGAC--GTCCTTTGTTT--------ACGTC---CCGTCGGCGCTGA-ATCCT-GC--GGAC-GACCC-TT--CT-CG----------GGG-TCGCTTGG--GACTCTCTCGTCCCCT------T-CTCCGT-C---TGC-CGTTCCG-A-CC--GAC--CAC-GGG-GC-GCACCTCTCTTTACG--CGGACTCC-CC-GTCTGTGCCTTCTCAT-CTGCC-G-G--A-CC--GTG---T--G-C-A--C--T')\n"
     ]
    }
   ],
   "source": [
    "df_snp, df_context, cov = main('./data/DK-A3B_S131_L001_R2_001 assembled to HBV_0.fasta')"
   ]
  },
  {
   "cell_type": "code",
   "execution_count": 20,
   "metadata": {},
   "outputs": [
    {
     "data": {
      "text/html": [
       "<div>\n",
       "<style scoped>\n",
       "    .dataframe tbody tr th:only-of-type {\n",
       "        vertical-align: middle;\n",
       "    }\n",
       "\n",
       "    .dataframe tbody tr th {\n",
       "        vertical-align: top;\n",
       "    }\n",
       "\n",
       "    .dataframe thead th {\n",
       "        text-align: right;\n",
       "    }\n",
       "</style>\n",
       "<table border=\"1\" class=\"dataframe\">\n",
       "  <thead>\n",
       "    <tr style=\"text-align: right;\">\n",
       "      <th></th>\n",
       "      <th>start_pos</th>\n",
       "      <th>stop_pos</th>\n",
       "      <th>ref_duplex</th>\n",
       "      <th>A</th>\n",
       "      <th>T</th>\n",
       "      <th>G</th>\n",
       "    </tr>\n",
       "  </thead>\n",
       "  <tbody>\n",
       "    <tr>\n",
       "      <th>0</th>\n",
       "      <td>7</td>\n",
       "      <td>9</td>\n",
       "      <td>CT</td>\n",
       "      <td>30.0</td>\n",
       "      <td>78.0</td>\n",
       "      <td>47.0</td>\n",
       "    </tr>\n",
       "    <tr>\n",
       "      <th>1</th>\n",
       "      <td>13</td>\n",
       "      <td>14</td>\n",
       "      <td>CT</td>\n",
       "      <td>24.0</td>\n",
       "      <td>55.0</td>\n",
       "      <td>68.0</td>\n",
       "    </tr>\n",
       "    <tr>\n",
       "      <th>2</th>\n",
       "      <td>21</td>\n",
       "      <td>22</td>\n",
       "      <td>CT</td>\n",
       "      <td>20.0</td>\n",
       "      <td>34.0</td>\n",
       "      <td>44.0</td>\n",
       "    </tr>\n",
       "    <tr>\n",
       "      <th>3</th>\n",
       "      <td>26</td>\n",
       "      <td>27</td>\n",
       "      <td>CT</td>\n",
       "      <td>10.0</td>\n",
       "      <td>14.0</td>\n",
       "      <td>16.0</td>\n",
       "    </tr>\n",
       "    <tr>\n",
       "      <th>4</th>\n",
       "      <td>29</td>\n",
       "      <td>30</td>\n",
       "      <td>CC</td>\n",
       "      <td>21.0</td>\n",
       "      <td>17.0</td>\n",
       "      <td>21.0</td>\n",
       "    </tr>\n",
       "  </tbody>\n",
       "</table>\n",
       "</div>"
      ],
      "text/plain": [
       "   start_pos  stop_pos ref_duplex     A     T     G\n",
       "0          7         9         CT  30.0  78.0  47.0\n",
       "1         13        14         CT  24.0  55.0  68.0\n",
       "2         21        22         CT  20.0  34.0  44.0\n",
       "3         26        27         CT  10.0  14.0  16.0\n",
       "4         29        30         CC  21.0  17.0  21.0"
      ]
     },
     "execution_count": 20,
     "metadata": {},
     "output_type": "execute_result"
    }
   ],
   "source": [
    "df_snp.head()"
   ]
  },
  {
   "cell_type": "code",
   "execution_count": 21,
   "metadata": {},
   "outputs": [
    {
     "data": {
      "text/html": [
       "<div>\n",
       "<style scoped>\n",
       "    .dataframe tbody tr th:only-of-type {\n",
       "        vertical-align: middle;\n",
       "    }\n",
       "\n",
       "    .dataframe tbody tr th {\n",
       "        vertical-align: top;\n",
       "    }\n",
       "\n",
       "    .dataframe thead th {\n",
       "        text-align: right;\n",
       "    }\n",
       "</style>\n",
       "<table border=\"1\" class=\"dataframe\">\n",
       "  <thead>\n",
       "    <tr style=\"text-align: right;\">\n",
       "      <th></th>\n",
       "      <th>A</th>\n",
       "      <th>T</th>\n",
       "      <th>G</th>\n",
       "    </tr>\n",
       "    <tr>\n",
       "      <th>ref_duplex</th>\n",
       "      <th></th>\n",
       "      <th></th>\n",
       "      <th></th>\n",
       "    </tr>\n",
       "  </thead>\n",
       "  <tbody>\n",
       "    <tr>\n",
       "      <th>CA</th>\n",
       "      <td>122.0</td>\n",
       "      <td>160.0</td>\n",
       "      <td>68.0</td>\n",
       "    </tr>\n",
       "    <tr>\n",
       "      <th>CC</th>\n",
       "      <td>674.0</td>\n",
       "      <td>965.0</td>\n",
       "      <td>261.0</td>\n",
       "    </tr>\n",
       "    <tr>\n",
       "      <th>CG</th>\n",
       "      <td>822.0</td>\n",
       "      <td>2042.0</td>\n",
       "      <td>507.0</td>\n",
       "    </tr>\n",
       "    <tr>\n",
       "      <th>CT</th>\n",
       "      <td>979.0</td>\n",
       "      <td>684.0</td>\n",
       "      <td>523.0</td>\n",
       "    </tr>\n",
       "  </tbody>\n",
       "</table>\n",
       "</div>"
      ],
      "text/plain": [
       "                A       T      G\n",
       "ref_duplex                      \n",
       "CA          122.0   160.0   68.0\n",
       "CC          674.0   965.0  261.0\n",
       "CG          822.0  2042.0  507.0\n",
       "CT          979.0   684.0  523.0"
      ]
     },
     "execution_count": 21,
     "metadata": {},
     "output_type": "execute_result"
    }
   ],
   "source": [
    "df_context"
   ]
  },
  {
   "cell_type": "code",
   "execution_count": 22,
   "metadata": {},
   "outputs": [
    {
     "data": {
      "text/plain": [
       "8928"
      ]
     },
     "execution_count": 22,
     "metadata": {},
     "output_type": "execute_result"
    }
   ],
   "source": [
    "cov"
   ]
  },
  {
   "cell_type": "code",
   "execution_count": 4,
   "metadata": {},
   "outputs": [],
   "source": [
    "a = [\"A\", \"T\", \"G\", \"C\"]"
   ]
  },
  {
   "cell_type": "code",
   "execution_count": 5,
   "metadata": {},
   "outputs": [],
   "source": [
    "a.remove(\"A\")"
   ]
  },
  {
   "cell_type": "code",
   "execution_count": 6,
   "metadata": {},
   "outputs": [
    {
     "data": {
      "text/plain": [
       "['T', 'G', 'C']"
      ]
     },
     "execution_count": 6,
     "metadata": {},
     "output_type": "execute_result"
    }
   ],
   "source": [
    "a"
   ]
  },
  {
   "cell_type": "code",
   "execution_count": 7,
   "metadata": {},
   "outputs": [],
   "source": [
    "a.remove(\"T\")"
   ]
  },
  {
   "cell_type": "code",
   "execution_count": 8,
   "metadata": {},
   "outputs": [
    {
     "data": {
      "text/plain": [
       "['G', 'C']"
      ]
     },
     "execution_count": 8,
     "metadata": {},
     "output_type": "execute_result"
    }
   ],
   "source": [
    "a"
   ]
  },
  {
   "cell_type": "code",
   "execution_count": null,
   "metadata": {},
   "outputs": [],
   "source": []
  },
  {
   "cell_type": "code",
   "execution_count": null,
   "metadata": {},
   "outputs": [],
   "source": []
  }
 ],
 "metadata": {
  "kernelspec": {
   "display_name": "Python 3",
   "language": "python",
   "name": "python3"
  },
  "language_info": {
   "codemirror_mode": {
    "name": "ipython",
    "version": 3
   },
   "file_extension": ".py",
   "mimetype": "text/x-python",
   "name": "python",
   "nbconvert_exporter": "python",
   "pygments_lexer": "ipython3",
   "version": "3.6.5"
  }
 },
 "nbformat": 4,
 "nbformat_minor": 2
}
