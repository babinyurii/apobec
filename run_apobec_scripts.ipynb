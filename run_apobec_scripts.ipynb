{
 "cells": [
  {
   "cell_type": "code",
   "execution_count": 6,
   "metadata": {
    "scrolled": false
   },
   "outputs": [
    {
     "name": "stdout",
     "output_type": "stream",
     "text": [
      "\n",
      "               ---------------\n",
      "               job started at 2019-01-22 11:04:48 ...\n",
      "               ---------------\n",
      "               \n"
     ]
    },
    {
     "data": {
      "application/vnd.jupyter.widget-view+json": {
       "model_id": "b9cd4945258a4568aed53a9fccc32b03",
       "version_major": 2,
       "version_minor": 0
      },
      "text/plain": [
       "FloatProgress(value=0.0, max=3.0)"
      ]
     },
     "metadata": {},
     "output_type": "display_data"
    },
    {
     "name": "stdout",
     "output_type": "stream",
     "text": [
      "\n",
      "    \n",
      "    file processed: 3\n",
      "    time taken: 0.0 hours 1.0 minutes 39 seconds\n",
      "    \n",
      "    the results are in the folder 'output_apobec'\n",
      "    \n",
      "    ---------------\n",
      "    ... job finished at 2019-01-22 11:06:28\n",
      "    ---------------\n",
      "    \n",
      "    \n"
     ]
    }
   ],
   "source": [
    "%run ./scripts/count_snp_duplex.py"
   ]
  },
  {
   "cell_type": "code",
   "execution_count": 18,
   "metadata": {},
   "outputs": [
    {
     "name": "stdout",
     "output_type": "stream",
     "text": [
      "\n",
      "               ---------------\n",
      "               job started at 2019-01-22 11:37:10 ...\n",
      "               ---------------\n",
      "               \n",
      "collecting snp...\n"
     ]
    },
    {
     "data": {
      "application/vnd.jupyter.widget-view+json": {
       "model_id": "429ae65e9b5844b1939ba6a87804bbb1",
       "version_major": 2,
       "version_minor": 0
      },
      "text/plain": [
       "FloatProgress(value=0.0, max=3.0)"
      ]
     },
     "metadata": {},
     "output_type": "display_data"
    },
    {
     "name": "stdout",
     "output_type": "stream",
     "text": [
      "snp collected...\n",
      "plot consctructed...\n",
      "spreadsheet saved...\n",
      "\n",
      "    \n",
      "    file processed: 3\n",
      "    time taken: 0.0 hours 0.0 minutes 3 seconds\n",
      "    \n",
      "    the results are in the folder 'output_apobec'\n",
      "    \n",
      "    note: difference in the output files names \n",
      "    is denoted by the time when script finished its work.\n",
      "    \n",
      "    ---------------\n",
      "    ... job finished at 2019-01-22 11:37:14\n",
      "    ---------------\n",
      "    \n",
      "    \n"
     ]
    }
   ],
   "source": [
    "%run ./scripts/snp_rate.py"
   ]
  },
  {
   "cell_type": "code",
   "execution_count": null,
   "metadata": {},
   "outputs": [],
   "source": []
  }
 ],
 "metadata": {
  "kernelspec": {
   "display_name": "Python 3",
   "language": "python",
   "name": "python3"
  },
  "language_info": {
   "codemirror_mode": {
    "name": "ipython",
    "version": 3
   },
   "file_extension": ".py",
   "mimetype": "text/x-python",
   "name": "python",
   "nbconvert_exporter": "python",
   "pygments_lexer": "ipython3",
   "version": "3.6.5"
  }
 },
 "nbformat": 4,
 "nbformat_minor": 2
}
