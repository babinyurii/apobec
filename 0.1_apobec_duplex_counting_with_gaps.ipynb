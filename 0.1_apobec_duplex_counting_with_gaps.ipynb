{
 "cells": [
  {
   "cell_type": "code",
   "execution_count": 78,
   "metadata": {},
   "outputs": [],
   "source": [
    "from Bio.SeqIO.FastaIO import SimpleFastaParser  # low level fast fasta parser\n",
    "import matplotlib.pyplot as plt\n",
    "import seaborn as sns\n",
    "sns.set()"
   ]
  },
  {
   "cell_type": "code",
   "execution_count": 3,
   "metadata": {},
   "outputs": [
    {
     "name": "stdout",
     "output_type": "stream",
     "text": [
      "total 11M\n",
      "-rwxrwxrwx 1 root root 3.3M Nov 30 11:08 DK-A3A_S130_L001_R1_001 assembled to HBV_0.fasta\n",
      "-rwxrwxrwx 1 root root 3.2M Nov 30 11:08 DK-A3B_S131_L001_R2_001 assembled to HBV_0.fasta\n",
      "-rwxrwxrwx 1 root root 3.8M Nov 30 11:08 DK-AID_S133_L001_R1_001 assembled to HBV_0.fasta\n",
      "-rwxrwxrwx 1 root root   83 Dec 12 11:49 test.txt\n"
     ]
    }
   ],
   "source": [
    "%%bash\n",
    "ls -lh ./data"
   ]
  },
  {
   "cell_type": "code",
   "execution_count": 79,
   "metadata": {},
   "outputs": [],
   "source": [
    "\n",
    "def get_duplex_pos(in_file):\n",
    "    \n",
    "    nucleotides = ['A', 'T', 'G', 'C']\n",
    "    \n",
    "    with open(in_file) as in_handle:\n",
    "        for title, seq in SimpleFastaParser(in_handle):\n",
    "            seq = seq\n",
    "            break\n",
    "    \n",
    "    start = 0\n",
    "    \n",
    "    d = {}\n",
    "    \n",
    "    # this part could be another function\n",
    "    while start != len(seq)-1:\n",
    "        \n",
    "        if seq[start] == 'C':\n",
    "            first_duplex_nuc = seq[start]\n",
    "            first_pos = start\n",
    "            # + 1 to get slice from the next letter\n",
    "            \n",
    "            second_pos = start + 1\n",
    "            for nuc in seq[start + 1:]:\n",
    "                if nuc in nucleotides:\n",
    "                    second_duplex_nuc = nuc\n",
    "                    break\n",
    "                else:\n",
    "                    second_pos += 1\n",
    "                    \n",
    "            d[(first_pos, second_pos)] = {'ref_duplex' : first_duplex_nuc + second_duplex_nuc, \\\n",
    "                                          'A' : 0, 'T' : 0, 'G' : 0, 'C' : 0, '-' : 0}\n",
    "            # incrementing index\n",
    "            start += 1\n",
    "        else:\n",
    "            # increment anyway\n",
    "            start += 1\n",
    "        \n",
    "    return d\n"
   ]
  },
  {
   "cell_type": "code",
   "execution_count": 80,
   "metadata": {},
   "outputs": [],
   "source": [
    "\n",
    "def collect_snp(in_file, d):\n",
    "    cov = 0 \n",
    "    with open(in_file) as in_handle:\n",
    "        reads = SimpleFastaParser(in_handle)\n",
    "        for record in reads:\n",
    "            cov += 1\n",
    "            read = record[1] \n",
    "            for duplex_pos in d.keys():\n",
    "                # here's some thought:\n",
    "                # 1. if you crop the variants where second pos in the duplex in the read is diff, you get \n",
    "                # twice as less variants as if you drop the expression after 'and' \n",
    "                # so, do we really need just to count snps or context ?\n",
    "                # check it out : it seem work as well\n",
    "                # print(read[duplex_pos[0]], read[duplex_pos[1]], d[duplex_pos]['ref_duplex'])\n",
    "                if read[duplex_pos[0]] != 'C' and read[duplex_pos[0]] != '-' \\\n",
    "                and read[duplex_pos[1]] == d[duplex_pos]['ref_duplex'][1]:\n",
    "                    \n",
    "                    snp = read[duplex_pos[0]]\n",
    "                    \n",
    "                    \n",
    "                    d[duplex_pos][snp] += 1\n",
    "            \n",
    "        \n",
    "    return  d, cov"
   ]
  },
  {
   "cell_type": "code",
   "execution_count": 121,
   "metadata": {},
   "outputs": [],
   "source": [
    "d = get_duplex_pos('./data/DK-A3B_S131_L001_R2_001 assembled to HBV_0.fasta')"
   ]
  },
  {
   "cell_type": "code",
   "execution_count": 122,
   "metadata": {
    "scrolled": true
   },
   "outputs": [
    {
     "data": {
      "text/plain": [
       "{(7, 9): {'ref_duplex': 'CT', 'A': 0, 'T': 0, 'G': 0, 'C': 0, '-': 0},\n",
       " (13, 14): {'ref_duplex': 'CT', 'A': 0, 'T': 0, 'G': 0, 'C': 0, '-': 0},\n",
       " (21, 22): {'ref_duplex': 'CT', 'A': 0, 'T': 0, 'G': 0, 'C': 0, '-': 0},\n",
       " (26, 27): {'ref_duplex': 'CT', 'A': 0, 'T': 0, 'G': 0, 'C': 0, '-': 0},\n",
       " (29, 30): {'ref_duplex': 'CC', 'A': 0, 'T': 0, 'G': 0, 'C': 0, '-': 0},\n",
       " (30, 31): {'ref_duplex': 'CA', 'A': 0, 'T': 0, 'G': 0, 'C': 0, '-': 0},\n",
       " (33, 34): {'ref_duplex': 'CT', 'A': 0, 'T': 0, 'G': 0, 'C': 0, '-': 0},\n",
       " (40, 41): {'ref_duplex': 'CC', 'A': 0, 'T': 0, 'G': 0, 'C': 0, '-': 0},\n",
       " (41, 42): {'ref_duplex': 'CT', 'A': 0, 'T': 0, 'G': 0, 'C': 0, '-': 0},\n",
       " (44, 45): {'ref_duplex': 'CG', 'A': 0, 'T': 0, 'G': 0, 'C': 0, '-': 0},\n",
       " (46, 51): {'ref_duplex': 'CG', 'A': 0, 'T': 0, 'G': 0, 'C': 0, '-': 0},\n",
       " (55, 58): {'ref_duplex': 'CG', 'A': 0, 'T': 0, 'G': 0, 'C': 0, '-': 0},\n",
       " (60, 61): {'ref_duplex': 'CC', 'A': 0, 'T': 0, 'G': 0, 'C': 0, '-': 0},\n",
       " (61, 62): {'ref_duplex': 'CT', 'A': 0, 'T': 0, 'G': 0, 'C': 0, '-': 0},\n",
       " (78, 79): {'ref_duplex': 'CG', 'A': 0, 'T': 0, 'G': 0, 'C': 0, '-': 0},\n",
       " (81, 85): {'ref_duplex': 'CC', 'A': 0, 'T': 0, 'G': 0, 'C': 0, '-': 0},\n",
       " (85, 86): {'ref_duplex': 'CC', 'A': 0, 'T': 0, 'G': 0, 'C': 0, '-': 0},\n",
       " (86, 87): {'ref_duplex': 'CG', 'A': 0, 'T': 0, 'G': 0, 'C': 0, '-': 0},\n",
       " (89, 90): {'ref_duplex': 'CG', 'A': 0, 'T': 0, 'G': 0, 'C': 0, '-': 0},\n",
       " (92, 93): {'ref_duplex': 'CG', 'A': 0, 'T': 0, 'G': 0, 'C': 0, '-': 0},\n",
       " (94, 95): {'ref_duplex': 'CT', 'A': 0, 'T': 0, 'G': 0, 'C': 0, '-': 0},\n",
       " (101, 102): {'ref_duplex': 'CC', 'A': 0, 'T': 0, 'G': 0, 'C': 0, '-': 0},\n",
       " (102, 103): {'ref_duplex': 'CT', 'A': 0, 'T': 0, 'G': 0, 'C': 0, '-': 0},\n",
       " (106, 109): {'ref_duplex': 'CG', 'A': 0, 'T': 0, 'G': 0, 'C': 0, '-': 0},\n",
       " (112, 114): {'ref_duplex': 'CG', 'A': 0, 'T': 0, 'G': 0, 'C': 0, '-': 0},\n",
       " (116, 117): {'ref_duplex': 'CC', 'A': 0, 'T': 0, 'G': 0, 'C': 0, '-': 0},\n",
       " (117, 118): {'ref_duplex': 'CC', 'A': 0, 'T': 0, 'G': 0, 'C': 0, '-': 0},\n",
       " (118, 120): {'ref_duplex': 'CT', 'A': 0, 'T': 0, 'G': 0, 'C': 0, '-': 0},\n",
       " (124, 125): {'ref_duplex': 'CT', 'A': 0, 'T': 0, 'G': 0, 'C': 0, '-': 0},\n",
       " (127, 128): {'ref_duplex': 'CG', 'A': 0, 'T': 0, 'G': 0, 'C': 0, '-': 0},\n",
       " (144, 145): {'ref_duplex': 'CG', 'A': 0, 'T': 0, 'G': 0, 'C': 0, '-': 0},\n",
       " (146, 147): {'ref_duplex': 'CT', 'A': 0, 'T': 0, 'G': 0, 'C': 0, '-': 0},\n",
       " (155, 156): {'ref_duplex': 'CT', 'A': 0, 'T': 0, 'G': 0, 'C': 0, '-': 0},\n",
       " (157, 158): {'ref_duplex': 'CT', 'A': 0, 'T': 0, 'G': 0, 'C': 0, '-': 0},\n",
       " (159, 160): {'ref_duplex': 'CT', 'A': 0, 'T': 0, 'G': 0, 'C': 0, '-': 0},\n",
       " (161, 162): {'ref_duplex': 'CG', 'A': 0, 'T': 0, 'G': 0, 'C': 0, '-': 0},\n",
       " (164, 165): {'ref_duplex': 'CC', 'A': 0, 'T': 0, 'G': 0, 'C': 0, '-': 0},\n",
       " (165, 166): {'ref_duplex': 'CC', 'A': 0, 'T': 0, 'G': 0, 'C': 0, '-': 0},\n",
       " (166, 167): {'ref_duplex': 'CC', 'A': 0, 'T': 0, 'G': 0, 'C': 0, '-': 0},\n",
       " (167, 168): {'ref_duplex': 'CT', 'A': 0, 'T': 0, 'G': 0, 'C': 0, '-': 0},\n",
       " (177, 178): {'ref_duplex': 'CT', 'A': 0, 'T': 0, 'G': 0, 'C': 0, '-': 0},\n",
       " (179, 180): {'ref_duplex': 'CC', 'A': 0, 'T': 0, 'G': 0, 'C': 0, '-': 0},\n",
       " (180, 181): {'ref_duplex': 'CG', 'A': 0, 'T': 0, 'G': 0, 'C': 0, '-': 0},\n",
       " (184, 188): {'ref_duplex': 'CT', 'A': 0, 'T': 0, 'G': 0, 'C': 0, '-': 0},\n",
       " (190, 192): {'ref_duplex': 'CC', 'A': 0, 'T': 0, 'G': 0, 'C': 0, '-': 0},\n",
       " (192, 193): {'ref_duplex': 'CG', 'A': 0, 'T': 0, 'G': 0, 'C': 0, '-': 0},\n",
       " (196, 197): {'ref_duplex': 'CC', 'A': 0, 'T': 0, 'G': 0, 'C': 0, '-': 0},\n",
       " (197, 198): {'ref_duplex': 'CG', 'A': 0, 'T': 0, 'G': 0, 'C': 0, '-': 0},\n",
       " (202, 203): {'ref_duplex': 'CC', 'A': 0, 'T': 0, 'G': 0, 'C': 0, '-': 0},\n",
       " (203, 206): {'ref_duplex': 'CG', 'A': 0, 'T': 0, 'G': 0, 'C': 0, '-': 0},\n",
       " (208, 211): {'ref_duplex': 'CC', 'A': 0, 'T': 0, 'G': 0, 'C': 0, '-': 0},\n",
       " (211, 212): {'ref_duplex': 'CA', 'A': 0, 'T': 0, 'G': 0, 'C': 0, '-': 0},\n",
       " (213, 215): {'ref_duplex': 'CG', 'A': 0, 'T': 0, 'G': 0, 'C': 0, '-': 0},\n",
       " (220, 222): {'ref_duplex': 'CG', 'A': 0, 'T': 0, 'G': 0, 'C': 0, '-': 0},\n",
       " (223, 224): {'ref_duplex': 'CA', 'A': 0, 'T': 0, 'G': 0, 'C': 0, '-': 0},\n",
       " (225, 226): {'ref_duplex': 'CC', 'A': 0, 'T': 0, 'G': 0, 'C': 0, '-': 0},\n",
       " (226, 227): {'ref_duplex': 'CT', 'A': 0, 'T': 0, 'G': 0, 'C': 0, '-': 0},\n",
       " (228, 229): {'ref_duplex': 'CT', 'A': 0, 'T': 0, 'G': 0, 'C': 0, '-': 0},\n",
       " (230, 231): {'ref_duplex': 'CT', 'A': 0, 'T': 0, 'G': 0, 'C': 0, '-': 0},\n",
       " (235, 236): {'ref_duplex': 'CG', 'A': 0, 'T': 0, 'G': 0, 'C': 0, '-': 0},\n",
       " (239, 240): {'ref_duplex': 'CG', 'A': 0, 'T': 0, 'G': 0, 'C': 0, '-': 0},\n",
       " (243, 244): {'ref_duplex': 'CT', 'A': 0, 'T': 0, 'G': 0, 'C': 0, '-': 0},\n",
       " (245, 246): {'ref_duplex': 'CC', 'A': 0, 'T': 0, 'G': 0, 'C': 0, '-': 0},\n",
       " (246, 248): {'ref_duplex': 'CC', 'A': 0, 'T': 0, 'G': 0, 'C': 0, '-': 0},\n",
       " (248, 249): {'ref_duplex': 'CC', 'A': 0, 'T': 0, 'G': 0, 'C': 0, '-': 0},\n",
       " (249, 251): {'ref_duplex': 'CG', 'A': 0, 'T': 0, 'G': 0, 'C': 0, '-': 0},\n",
       " (253, 254): {'ref_duplex': 'CT', 'A': 0, 'T': 0, 'G': 0, 'C': 0, '-': 0},\n",
       " (258, 259): {'ref_duplex': 'CC', 'A': 0, 'T': 0, 'G': 0, 'C': 0, '-': 0},\n",
       " (259, 260): {'ref_duplex': 'CT', 'A': 0, 'T': 0, 'G': 0, 'C': 0, '-': 0},\n",
       " (262, 263): {'ref_duplex': 'CT', 'A': 0, 'T': 0, 'G': 0, 'C': 0, '-': 0},\n",
       " (264, 265): {'ref_duplex': 'CA', 'A': 0, 'T': 0, 'G': 0, 'C': 0, '-': 0},\n",
       " (268, 269): {'ref_duplex': 'CT', 'A': 0, 'T': 0, 'G': 0, 'C': 0, '-': 0},\n",
       " (271, 272): {'ref_duplex': 'CC', 'A': 0, 'T': 0, 'G': 0, 'C': 0, '-': 0},\n",
       " (272, 274): {'ref_duplex': 'CG', 'A': 0, 'T': 0, 'G': 0, 'C': 0, '-': 0},\n",
       " (281, 282): {'ref_duplex': 'CC', 'A': 0, 'T': 0, 'G': 0, 'C': 0, '-': 0},\n",
       " (282, 285): {'ref_duplex': 'CG', 'A': 0, 'T': 0, 'G': 0, 'C': 0, '-': 0},\n",
       " (296, 298): {'ref_duplex': 'CA', 'A': 0, 'T': 0, 'G': 0, 'C': 0, '-': 0},\n",
       " (301, 304): {'ref_duplex': 'CT', 'A': 0, 'T': 0, 'G': 0, 'C': 0, '-': 0}}"
      ]
     },
     "execution_count": 122,
     "metadata": {},
     "output_type": "execute_result"
    }
   ],
   "source": [
    "d"
   ]
  },
  {
   "cell_type": "code",
   "execution_count": 123,
   "metadata": {
    "scrolled": true
   },
   "outputs": [],
   "source": [
    "d_up, cov = collect_snp('./data/DK-A3B_S131_L001_R2_001 assembled to HBV_0.fasta', d)"
   ]
  },
  {
   "cell_type": "code",
   "execution_count": 125,
   "metadata": {
    "scrolled": false
   },
   "outputs": [
    {
     "data": {
      "text/plain": [
       "{(7, 9): {'ref_duplex': 'CT', 'A': 30, 'T': 78, 'G': 47, 'C': 0, '-': 0},\n",
       " (13, 14): {'ref_duplex': 'CT', 'A': 24, 'T': 55, 'G': 68, 'C': 0, '-': 0},\n",
       " (21, 22): {'ref_duplex': 'CT', 'A': 20, 'T': 34, 'G': 44, 'C': 0, '-': 0},\n",
       " (26, 27): {'ref_duplex': 'CT', 'A': 10, 'T': 14, 'G': 16, 'C': 0, '-': 0},\n",
       " (29, 30): {'ref_duplex': 'CC', 'A': 21, 'T': 17, 'G': 21, 'C': 0, '-': 0},\n",
       " (30, 31): {'ref_duplex': 'CA', 'A': 27, 'T': 22, 'G': 43, 'C': 0, '-': 0},\n",
       " (33, 34): {'ref_duplex': 'CT', 'A': 36, 'T': 18, 'G': 47, 'C': 0, '-': 0},\n",
       " (40, 41): {'ref_duplex': 'CC', 'A': 17, 'T': 33, 'G': 20, 'C': 0, '-': 0},\n",
       " (41, 42): {'ref_duplex': 'CT', 'A': 6, 'T': 19, 'G': 31, 'C': 0, '-': 0},\n",
       " (44, 45): {'ref_duplex': 'CG', 'A': 26, 'T': 107, 'G': 70, 'C': 0, '-': 0},\n",
       " (46, 51): {'ref_duplex': 'CG', 'A': 26, 'T': 61, 'G': 91, 'C': 0, '-': 0},\n",
       " (55, 58): {'ref_duplex': 'CG', 'A': 34, 'T': 39, 'G': 12, 'C': 0, '-': 0},\n",
       " (60, 61): {'ref_duplex': 'CC', 'A': 19, 'T': 22, 'G': 15, 'C': 0, '-': 0},\n",
       " (61, 62): {'ref_duplex': 'CT', 'A': 27, 'T': 86, 'G': 30, 'C': 0, '-': 0},\n",
       " (78, 79): {'ref_duplex': 'CG', 'A': 16, 'T': 51, 'G': 11, 'C': 0, '-': 0},\n",
       " (81, 85): {'ref_duplex': 'CC', 'A': 30, 'T': 18, 'G': 7, 'C': 0, '-': 0},\n",
       " (85, 86): {'ref_duplex': 'CC', 'A': 18, 'T': 35, 'G': 21, 'C': 0, '-': 0},\n",
       " (86, 87): {'ref_duplex': 'CG', 'A': 35, 'T': 61, 'G': 96, 'C': 0, '-': 0},\n",
       " (89, 90): {'ref_duplex': 'CG', 'A': 40, 'T': 35, 'G': 26, 'C': 0, '-': 0},\n",
       " (92, 93): {'ref_duplex': 'CG', 'A': 74, 'T': 448, 'G': 64, 'C': 0, '-': 0},\n",
       " (94, 95): {'ref_duplex': 'CT', 'A': 62, 'T': 78, 'G': 20, 'C': 0, '-': 0},\n",
       " (101, 102): {'ref_duplex': 'CC', 'A': 27, 'T': 14, 'G': 4, 'C': 0, '-': 0},\n",
       " (102, 103): {'ref_duplex': 'CT', 'A': 23, 'T': 20, 'G': 6, 'C': 0, '-': 0},\n",
       " (106, 109): {'ref_duplex': 'CG', 'A': 59, 'T': 295, 'G': 21, 'C': 0, '-': 0},\n",
       " (112, 114): {'ref_duplex': 'CG', 'A': 29, 'T': 72, 'G': 13, 'C': 0, '-': 0},\n",
       " (116, 117): {'ref_duplex': 'CC', 'A': 28, 'T': 35, 'G': 22, 'C': 0, '-': 0},\n",
       " (117, 118): {'ref_duplex': 'CC', 'A': 25, 'T': 37, 'G': 10, 'C': 0, '-': 0},\n",
       " (118, 120): {'ref_duplex': 'CT', 'A': 25, 'T': 21, 'G': 16, 'C': 0, '-': 0},\n",
       " (124, 125): {'ref_duplex': 'CT', 'A': 27, 'T': 24, 'G': 7, 'C': 0, '-': 0},\n",
       " (127, 128): {'ref_duplex': 'CG', 'A': 39, 'T': 49, 'G': 24, 'C': 0, '-': 0},\n",
       " (144, 145): {'ref_duplex': 'CG', 'A': 53, 'T': 32, 'G': 13, 'C': 0, '-': 0},\n",
       " (146, 147): {'ref_duplex': 'CT', 'A': 303, 'T': 25, 'G': 20, 'C': 0, '-': 0},\n",
       " (155, 156): {'ref_duplex': 'CT', 'A': 31, 'T': 19, 'G': 11, 'C': 0, '-': 0},\n",
       " (157, 158): {'ref_duplex': 'CT', 'A': 28, 'T': 14, 'G': 13, 'C': 0, '-': 0},\n",
       " (159, 160): {'ref_duplex': 'CT', 'A': 36, 'T': 12, 'G': 4, 'C': 0, '-': 0},\n",
       " (161, 162): {'ref_duplex': 'CG', 'A': 38, 'T': 36, 'G': 5, 'C': 0, '-': 0},\n",
       " (164, 165): {'ref_duplex': 'CC', 'A': 27, 'T': 38, 'G': 8, 'C': 0, '-': 0},\n",
       " (165, 166): {'ref_duplex': 'CC', 'A': 29, 'T': 87, 'G': 7, 'C': 0, '-': 0},\n",
       " (166, 167): {'ref_duplex': 'CC', 'A': 21, 'T': 41, 'G': 12, 'C': 0, '-': 0},\n",
       " (167, 168): {'ref_duplex': 'CT', 'A': 9, 'T': 26, 'G': 9, 'C': 0, '-': 0},\n",
       " (177, 178): {'ref_duplex': 'CT', 'A': 20, 'T': 19, 'G': 12, 'C': 0, '-': 0},\n",
       " (179, 180): {'ref_duplex': 'CC', 'A': 22, 'T': 17, 'G': 4, 'C': 0, '-': 0},\n",
       " (180, 181): {'ref_duplex': 'CG', 'A': 30, 'T': 66, 'G': 11, 'C': 0, '-': 0},\n",
       " (184, 188): {'ref_duplex': 'CT', 'A': 43, 'T': 6, 'G': 8, 'C': 0, '-': 0},\n",
       " (190, 192): {'ref_duplex': 'CC', 'A': 51, 'T': 261, 'G': 8, 'C': 0, '-': 0},\n",
       " (192, 193): {'ref_duplex': 'CG', 'A': 32, 'T': 41, 'G': 1, 'C': 0, '-': 0},\n",
       " (196, 197): {'ref_duplex': 'CC', 'A': 25, 'T': 38, 'G': 10, 'C': 0, '-': 0},\n",
       " (197, 198): {'ref_duplex': 'CG', 'A': 21, 'T': 52, 'G': 7, 'C': 0, '-': 0},\n",
       " (202, 203): {'ref_duplex': 'CC', 'A': 25, 'T': 46, 'G': 9, 'C': 0, '-': 0},\n",
       " (203, 206): {'ref_duplex': 'CG', 'A': 42, 'T': 111, 'G': 7, 'C': 0, '-': 0},\n",
       " (208, 211): {'ref_duplex': 'CC', 'A': 64, 'T': 22, 'G': 8, 'C': 0, '-': 0},\n",
       " (211, 212): {'ref_duplex': 'CA', 'A': 25, 'T': 57, 'G': 3, 'C': 0, '-': 0},\n",
       " (213, 215): {'ref_duplex': 'CG', 'A': 26, 'T': 42, 'G': 6, 'C': 0, '-': 0},\n",
       " (220, 222): {'ref_duplex': 'CG', 'A': 88, 'T': 152, 'G': 12, 'C': 0, '-': 0},\n",
       " (223, 224): {'ref_duplex': 'CA', 'A': 18, 'T': 47, 'G': 10, 'C': 0, '-': 0},\n",
       " (225, 226): {'ref_duplex': 'CC', 'A': 34, 'T': 45, 'G': 8, 'C': 0, '-': 0},\n",
       " (226, 227): {'ref_duplex': 'CT', 'A': 26, 'T': 22, 'G': 13, 'C': 0, '-': 0},\n",
       " (228, 229): {'ref_duplex': 'CT', 'A': 38, 'T': 6, 'G': 1, 'C': 0, '-': 0},\n",
       " (230, 231): {'ref_duplex': 'CT', 'A': 12, 'T': 5, 'G': 4, 'C': 0, '-': 0},\n",
       " (235, 236): {'ref_duplex': 'CG', 'A': 15, 'T': 58, 'G': 1, 'C': 0, '-': 0},\n",
       " (239, 240): {'ref_duplex': 'CG', 'A': 23, 'T': 135, 'G': 8, 'C': 0, '-': 0},\n",
       " (243, 244): {'ref_duplex': 'CT', 'A': 25, 'T': 20, 'G': 7, 'C': 0, '-': 0},\n",
       " (245, 246): {'ref_duplex': 'CC', 'A': 22, 'T': 17, 'G': 9, 'C': 0, '-': 0},\n",
       " (246, 248): {'ref_duplex': 'CC', 'A': 27, 'T': 45, 'G': 12, 'C': 0, '-': 0},\n",
       " (248, 249): {'ref_duplex': 'CC', 'A': 38, 'T': 37, 'G': 8, 'C': 0, '-': 0},\n",
       " (249, 251): {'ref_duplex': 'CG', 'A': 21, 'T': 67, 'G': 1, 'C': 0, '-': 0},\n",
       " (253, 254): {'ref_duplex': 'CT', 'A': 22, 'T': 10, 'G': 5, 'C': 0, '-': 0},\n",
       " (258, 259): {'ref_duplex': 'CC', 'A': 34, 'T': 18, 'G': 21, 'C': 0, '-': 0},\n",
       " (259, 260): {'ref_duplex': 'CT', 'A': 14, 'T': 12, 'G': 7, 'C': 0, '-': 0},\n",
       " (262, 263): {'ref_duplex': 'CT', 'A': 22, 'T': 13, 'G': 6, 'C': 0, '-': 0},\n",
       " (264, 265): {'ref_duplex': 'CA', 'A': 12, 'T': 19, 'G': 0, 'C': 0, '-': 0},\n",
       " (268, 269): {'ref_duplex': 'CT', 'A': 32, 'T': 9, 'G': 3, 'C': 0, '-': 0},\n",
       " (271, 272): {'ref_duplex': 'CC', 'A': 31, 'T': 15, 'G': 13, 'C': 0, '-': 0},\n",
       " (272, 274): {'ref_duplex': 'CG', 'A': 29, 'T': 20, 'G': 3, 'C': 0, '-': 0},\n",
       " (281, 282): {'ref_duplex': 'CC', 'A': 39, 'T': 27, 'G': 4, 'C': 0, '-': 0},\n",
       " (282, 285): {'ref_duplex': 'CG', 'A': 26, 'T': 12, 'G': 4, 'C': 0, '-': 0},\n",
       " (296, 298): {'ref_duplex': 'CA', 'A': 40, 'T': 15, 'G': 12, 'C': 0, '-': 0},\n",
       " (301, 304): {'ref_duplex': 'CT', 'A': 28, 'T': 19, 'G': 68, 'C': 0, '-': 0}}"
      ]
     },
     "execution_count": 125,
     "metadata": {},
     "output_type": "execute_result"
    }
   ],
   "source": [
    "d_up"
   ]
  },
  {
   "cell_type": "code",
   "execution_count": 126,
   "metadata": {},
   "outputs": [
    {
     "data": {
      "text/plain": [
       "8928"
      ]
     },
     "execution_count": 126,
     "metadata": {},
     "output_type": "execute_result"
    }
   ],
   "source": [
    "cov"
   ]
  },
  {
   "cell_type": "code",
   "execution_count": 127,
   "metadata": {},
   "outputs": [
    {
     "name": "stdout",
     "output_type": "stream",
     "text": [
      "0 ---> A\n",
      "1 ---> A\n",
      "2 ---> A\n",
      "3 ---> C\n",
      "4 ---> A\n",
      "5 ---> A\n",
      "6 ---> A\n",
      "7 ---> C\n",
      "8 ---> A\n",
      "9 ---> A\n",
      "10 ---> A\n",
      "11 ---> -\n",
      "12 ---> -\n",
      "13 ---> -\n",
      "14 ---> A\n",
      "15 ---> C\n",
      "16 ---> A\n",
      "17 ---> A\n",
      "18 ---> A\n"
     ]
    }
   ],
   "source": [
    "seq = 'AAACAAACAAA---ACAAA'\n",
    "for c, v in enumerate(seq):\n",
    "    print(c, '--->', v)"
   ]
  },
  {
   "cell_type": "code",
   "execution_count": null,
   "metadata": {},
   "outputs": [],
   "source": []
  },
  {
   "cell_type": "code",
   "execution_count": 128,
   "metadata": {},
   "outputs": [],
   "source": [
    "seq = '''AT-G-G-C-T-G-CTA-G-G-CTGTGCTGCCAACTGG-ATCCTGCGC----GGGAC--GTCCTTTGTTT--------ACGTC---CCGTCGGCGCTGA-ATCCT-GC--GGAC-GACCC-TT--CT-CG----------GGG-TCGCTTGG--GACTCTCTCGTCCCCT------T-CTCCGT-C---TGC-CGTTCCG-A-CC--GAC--CAC-GGG-GC-GCACCTCTCTTTACG--CGGACTCC-CC-GTCTGTGCCTTCTCAT-CTGCC-G-G--A-CC--GTG---T--G-C-A--C--T'''"
   ]
  },
  {
   "cell_type": "code",
   "execution_count": 129,
   "metadata": {},
   "outputs": [
    {
     "data": {
      "text/plain": [
       "305"
      ]
     },
     "execution_count": 129,
     "metadata": {},
     "output_type": "execute_result"
    }
   ],
   "source": [
    "len(seq)"
   ]
  },
  {
   "cell_type": "code",
   "execution_count": 130,
   "metadata": {},
   "outputs": [],
   "source": [
    "a_data = []\n",
    "t_data = []\n",
    "g_data = []\n",
    "c_data = []\n",
    "\n",
    "for key in d_up.keys():\n",
    "    a_data.append(d_up[key]['A'])\n",
    "    t_data.append(d_up[key]['T'])\n",
    "    g_data.append(d_up[key]['G'])\n",
    "    c_data.append(d_up[key]['C'])\n",
    "    \n",
    "    "
   ]
  },
  {
   "cell_type": "code",
   "execution_count": 131,
   "metadata": {},
   "outputs": [
    {
     "data": {
      "text/plain": [
       "<matplotlib.legend.Legend at 0x2713eb95438>"
      ]
     },
     "execution_count": 131,
     "metadata": {},
     "output_type": "execute_result"
    },
    {
     "data": {
      "image/png": "[encoded data removed]",
      "text/plain": [
       "<Figure size 1080x576 with 1 Axes>"
      ]
     },
     "metadata": {},
     "output_type": "display_data"
    }
   ],
   "source": [
    "plt.figure(figsize=(15, 8))\n",
    "plt.plot(a_data, label=\"A\")\n",
    "plt.plot(t_data, label=\"T\")\n",
    "plt.plot(g_data, label=\"G\")\n",
    "plt.plot(c_data, label=\"C\")\n",
    "plt.title('snp in the context of the duplex C-any nuc')\n",
    "plt.ylabel('raw count')\n",
    "plt.legend()"
   ]
  },
  {
   "cell_type": "code",
   "execution_count": 132,
   "metadata": {},
   "outputs": [],
   "source": [
    "c_duplex_types = ['CA', 'CT', 'CG', 'CC']"
   ]
  },
  {
   "cell_type": "code",
   "execution_count": 133,
   "metadata": {},
   "outputs": [],
   "source": [
    "import pandas as pd"
   ]
  },
  {
   "cell_type": "code",
   "execution_count": 134,
   "metadata": {},
   "outputs": [],
   "source": [
    "df = pd.DataFrame(d_up)"
   ]
  },
  {
   "cell_type": "code",
   "execution_count": 135,
   "metadata": {},
   "outputs": [],
   "source": [
    "df = df.T"
   ]
  },
  {
   "cell_type": "code",
   "execution_count": 136,
   "metadata": {},
   "outputs": [],
   "source": [
    "context_data = df.groupby('ref_duplex').sum()"
   ]
  },
  {
   "cell_type": "code",
   "execution_count": 137,
   "metadata": {},
   "outputs": [
    {
     "data": {
      "text/html": [
       "<div>\n",
       "<style scoped>\n",
       "    .dataframe tbody tr th:only-of-type {\n",
       "        vertical-align: middle;\n",
       "    }\n",
       "\n",
       "    .dataframe tbody tr th {\n",
       "        vertical-align: top;\n",
       "    }\n",
       "\n",
       "    .dataframe thead th {\n",
       "        text-align: right;\n",
       "    }\n",
       "</style>\n",
       "<table border=\"1\" class=\"dataframe\">\n",
       "  <thead>\n",
       "    <tr style=\"text-align: right;\">\n",
       "      <th></th>\n",
       "      <th>-</th>\n",
       "      <th>A</th>\n",
       "      <th>C</th>\n",
       "      <th>G</th>\n",
       "      <th>T</th>\n",
       "    </tr>\n",
       "    <tr>\n",
       "      <th>ref_duplex</th>\n",
       "      <th></th>\n",
       "      <th></th>\n",
       "      <th></th>\n",
       "      <th></th>\n",
       "      <th></th>\n",
       "    </tr>\n",
       "  </thead>\n",
       "  <tbody>\n",
       "    <tr>\n",
       "      <th>CA</th>\n",
       "      <td>0</td>\n",
       "      <td>122</td>\n",
       "      <td>0</td>\n",
       "      <td>68</td>\n",
       "      <td>160</td>\n",
       "    </tr>\n",
       "    <tr>\n",
       "      <th>CC</th>\n",
       "      <td>0</td>\n",
       "      <td>674</td>\n",
       "      <td>0</td>\n",
       "      <td>261</td>\n",
       "      <td>965</td>\n",
       "    </tr>\n",
       "    <tr>\n",
       "      <th>CG</th>\n",
       "      <td>0</td>\n",
       "      <td>822</td>\n",
       "      <td>0</td>\n",
       "      <td>507</td>\n",
       "      <td>2042</td>\n",
       "    </tr>\n",
       "    <tr>\n",
       "      <th>CT</th>\n",
       "      <td>0</td>\n",
       "      <td>979</td>\n",
       "      <td>0</td>\n",
       "      <td>523</td>\n",
       "      <td>684</td>\n",
       "    </tr>\n",
       "  </tbody>\n",
       "</table>\n",
       "</div>"
      ],
      "text/plain": [
       "            -    A  C    G     T\n",
       "ref_duplex                      \n",
       "CA          0  122  0   68   160\n",
       "CC          0  674  0  261   965\n",
       "CG          0  822  0  507  2042\n",
       "CT          0  979  0  523   684"
      ]
     },
     "execution_count": 137,
     "metadata": {},
     "output_type": "execute_result"
    }
   ],
   "source": [
    "context_data"
   ]
  },
  {
   "cell_type": "code",
   "execution_count": 138,
   "metadata": {},
   "outputs": [],
   "source": [
    "context_data.drop(['-'], axis=1, inplace=True)\n",
    "context_data.drop(['C'], axis=1, inplace=True)"
   ]
  },
  {
   "cell_type": "code",
   "execution_count": 139,
   "metadata": {},
   "outputs": [
    {
     "data": {
      "text/html": [
       "<div>\n",
       "<style scoped>\n",
       "    .dataframe tbody tr th:only-of-type {\n",
       "        vertical-align: middle;\n",
       "    }\n",
       "\n",
       "    .dataframe tbody tr th {\n",
       "        vertical-align: top;\n",
       "    }\n",
       "\n",
       "    .dataframe thead th {\n",
       "        text-align: right;\n",
       "    }\n",
       "</style>\n",
       "<table border=\"1\" class=\"dataframe\">\n",
       "  <thead>\n",
       "    <tr style=\"text-align: right;\">\n",
       "      <th></th>\n",
       "      <th>A</th>\n",
       "      <th>G</th>\n",
       "      <th>T</th>\n",
       "    </tr>\n",
       "    <tr>\n",
       "      <th>ref_duplex</th>\n",
       "      <th></th>\n",
       "      <th></th>\n",
       "      <th></th>\n",
       "    </tr>\n",
       "  </thead>\n",
       "  <tbody>\n",
       "    <tr>\n",
       "      <th>CA</th>\n",
       "      <td>122</td>\n",
       "      <td>68</td>\n",
       "      <td>160</td>\n",
       "    </tr>\n",
       "    <tr>\n",
       "      <th>CC</th>\n",
       "      <td>674</td>\n",
       "      <td>261</td>\n",
       "      <td>965</td>\n",
       "    </tr>\n",
       "    <tr>\n",
       "      <th>CG</th>\n",
       "      <td>822</td>\n",
       "      <td>507</td>\n",
       "      <td>2042</td>\n",
       "    </tr>\n",
       "    <tr>\n",
       "      <th>CT</th>\n",
       "      <td>979</td>\n",
       "      <td>523</td>\n",
       "      <td>684</td>\n",
       "    </tr>\n",
       "  </tbody>\n",
       "</table>\n",
       "</div>"
      ],
      "text/plain": [
       "              A    G     T\n",
       "ref_duplex                \n",
       "CA          122   68   160\n",
       "CC          674  261   965\n",
       "CG          822  507  2042\n",
       "CT          979  523   684"
      ]
     },
     "execution_count": 139,
     "metadata": {},
     "output_type": "execute_result"
    }
   ],
   "source": [
    "context_data"
   ]
  },
  {
   "cell_type": "code",
   "execution_count": 140,
   "metadata": {},
   "outputs": [
    {
     "data": {
      "text/plain": [
       "A    122\n",
       "G     68\n",
       "T    160\n",
       "Name: CA, dtype: int64"
      ]
     },
     "execution_count": 140,
     "metadata": {},
     "output_type": "execute_result"
    }
   ],
   "source": [
    "context_data.loc['CA', : ]"
   ]
  },
  {
   "cell_type": "code",
   "execution_count": 141,
   "metadata": {},
   "outputs": [
    {
     "data": {
      "image/png": "[encoded data removed]",
      "text/plain": [
       "<Figure size 720x360 with 1 Axes>"
      ]
     },
     "metadata": {},
     "output_type": "display_data"
    }
   ],
   "source": [
    "# Setting the positions and width for the bars\n",
    "pos = list(range(len(context_data['A']))) \n",
    "width = 0.25 \n",
    "    \n",
    "# Plotting the bars\n",
    "fig, ax = plt.subplots(figsize=(10,5))\n",
    "\n",
    "# Create a bar with pre_score data,\n",
    "# in position pos,\n",
    "plt.bar(pos, \n",
    "        #using df['pre_score'] data,\n",
    "        context_data['A'], \n",
    "        # of width\n",
    "        width, \n",
    "        # with alpha 0.5\n",
    "        alpha=0.5, \n",
    "        # with color\n",
    "        color='darkcyan', \n",
    "        edgecolor='black',\n",
    "        lw=2,\n",
    "        # with label the first value in first_name\n",
    "        label=context_data.index[0]) \n",
    "\n",
    "# Create a bar with mid_score data,\n",
    "# in position pos + some width buffer,\n",
    "plt.bar([p + width for p in pos], \n",
    "        #using df['mid_score'] data,\n",
    "        context_data['G'],\n",
    "        # of width\n",
    "        width, \n",
    "        # with alpha 0.5\n",
    "        alpha=0.5, \n",
    "        # with color\n",
    "        color='silver', \n",
    "        edgecolor='black',\n",
    "        lw=2,\n",
    "        # with label the second value in first_name\n",
    "        label=context_data.index[1]) \n",
    "\n",
    "# Create a bar with post_score data,\n",
    "# in position pos + some width buffer,\n",
    "plt.bar([p + width*2 for p in pos], \n",
    "        #using df['post_score'] data,\n",
    "        context_data['T'], \n",
    "        # of width\n",
    "        width, \n",
    "        # with alpha 0.5\n",
    "        alpha=0.5, \n",
    "        # with color\n",
    "        color='sandybrown', \n",
    "        edgecolor='black',\n",
    "        lw=2,\n",
    "        # with label the third value in first_name\n",
    "        label=context_data.index[2]) \n",
    "\n",
    "# Set the y axis label\n",
    "ax.set_ylabel('raw count')\n",
    "ax.set_xlabel('duplex', fontsize=15)\n",
    "# Set the chart's title\n",
    "ax.set_title('number of SNPs in the context CpA/G/T', fontsize='20')\n",
    "\n",
    "# Set the position of the x ticks\n",
    "ax.set_xticks([p + 1.0 * width for p in pos])\n",
    "\n",
    "# Set the labels for the x ticks\n",
    "ax.set_xticklabels(context_data.index)\n",
    "\n",
    "# Setting the x-axis and y-axis limits\n",
    "#plt.xlim(min(pos)-width, max(pos)+width*4)\n",
    "#plt.ylim([0, max(df['pre_score'] + df['mid_score'] + df['post_score'])] )\n",
    "\n",
    "# Adding the legend and showing the plot\n",
    "plt.legend([context_data.columns[0], \n",
    "            context_data.columns[1],\n",
    "            context_data.columns[2]], loc='upper left')\n",
    "\n",
    "plt.grid()\n",
    "plt.show()"
   ]
  },
  {
   "cell_type": "code",
   "execution_count": null,
   "metadata": {},
   "outputs": [],
   "source": []
  },
  {
   "cell_type": "code",
   "execution_count": null,
   "metadata": {},
   "outputs": [],
   "source": []
  },
  {
   "cell_type": "code",
   "execution_count": null,
   "metadata": {},
   "outputs": [],
   "source": []
  },
  {
   "cell_type": "code",
   "execution_count": null,
   "metadata": {},
   "outputs": [],
   "source": []
  },
  {
   "cell_type": "code",
   "execution_count": null,
   "metadata": {},
   "outputs": [],
   "source": []
  },
  {
   "cell_type": "code",
   "execution_count": null,
   "metadata": {},
   "outputs": [],
   "source": []
  },
  {
   "cell_type": "code",
   "execution_count": null,
   "metadata": {},
   "outputs": [],
   "source": []
  },
  {
   "cell_type": "code",
   "execution_count": null,
   "metadata": {},
   "outputs": [],
   "source": []
  },
  {
   "cell_type": "code",
   "execution_count": null,
   "metadata": {},
   "outputs": [],
   "source": []
  },
  {
   "cell_type": "code",
   "execution_count": null,
   "metadata": {},
   "outputs": [],
   "source": []
  },
  {
   "cell_type": "code",
   "execution_count": null,
   "metadata": {},
   "outputs": [],
   "source": []
  },
  {
   "cell_type": "code",
   "execution_count": null,
   "metadata": {},
   "outputs": [],
   "source": []
  },
  {
   "cell_type": "code",
   "execution_count": null,
   "metadata": {},
   "outputs": [],
   "source": []
  },
  {
   "cell_type": "code",
   "execution_count": null,
   "metadata": {},
   "outputs": [],
   "source": []
  },
  {
   "cell_type": "code",
   "execution_count": null,
   "metadata": {},
   "outputs": [],
   "source": []
  },
  {
   "cell_type": "code",
   "execution_count": null,
   "metadata": {},
   "outputs": [],
   "source": []
  },
  {
   "cell_type": "code",
   "execution_count": null,
   "metadata": {},
   "outputs": [],
   "source": []
  },
  {
   "cell_type": "code",
   "execution_count": null,
   "metadata": {},
   "outputs": [],
   "source": []
  },
  {
   "cell_type": "code",
   "execution_count": null,
   "metadata": {},
   "outputs": [],
   "source": []
  },
  {
   "cell_type": "code",
   "execution_count": null,
   "metadata": {},
   "outputs": [],
   "source": []
  },
  {
   "cell_type": "code",
   "execution_count": null,
   "metadata": {},
   "outputs": [],
   "source": []
  },
  {
   "cell_type": "code",
   "execution_count": null,
   "metadata": {},
   "outputs": [],
   "source": []
  },
  {
   "cell_type": "code",
   "execution_count": null,
   "metadata": {},
   "outputs": [],
   "source": []
  },
  {
   "cell_type": "code",
   "execution_count": null,
   "metadata": {},
   "outputs": [],
   "source": []
  },
  {
   "cell_type": "code",
   "execution_count": null,
   "metadata": {},
   "outputs": [],
   "source": []
  },
  {
   "cell_type": "code",
   "execution_count": null,
   "metadata": {},
   "outputs": [],
   "source": []
  },
  {
   "cell_type": "code",
   "execution_count": null,
   "metadata": {},
   "outputs": [],
   "source": []
  }
 ],
 "metadata": {
  "kernelspec": {
   "display_name": "Python 3",
   "language": "python",
   "name": "python3"
  },
  "language_info": {
   "codemirror_mode": {
    "name": "ipython",
    "version": 3
   },
   "file_extension": ".py",
   "mimetype": "text/x-python",
   "name": "python",
   "nbconvert_exporter": "python",
   "pygments_lexer": "ipython3",
   "version": "3.6.5"
  }
 },
 "nbformat": 4,
 "nbformat_minor": 2
}
