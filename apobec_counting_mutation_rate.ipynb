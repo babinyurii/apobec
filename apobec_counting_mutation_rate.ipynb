{
 "cells": [
  {
   "cell_type": "markdown",
   "metadata": {},
   "source": [
    "## heading"
   ]
  },
  {
   "cell_type": "code",
   "execution_count": 1,
   "metadata": {},
   "outputs": [],
   "source": [
    "from Bio.SeqIO.FastaIO import SimpleFastaParser  # low level fast fasta parser\n",
    "import matplotlib.pyplot as plt\n",
    "import seaborn as sns\n",
    "sns.set()"
   ]
  },
  {
   "cell_type": "code",
   "execution_count": 108,
   "metadata": {},
   "outputs": [],
   "source": [
    "from statistics import mean, mode, median\n",
    "import pandas as pd"
   ]
  },
  {
   "cell_type": "code",
   "execution_count": 2,
   "metadata": {},
   "outputs": [
    {
     "name": "stdout",
     "output_type": "stream",
     "text": [
      "total 11M\n",
      "-rwxrwxrwx 1 root root 3.3M Nov 30 11:08 DK-A3A_S130_L001_R1_001 assembled to HBV_0.fasta\n",
      "-rwxrwxrwx 1 root root 3.2M Nov 30 11:08 DK-A3B_S131_L001_R2_001 assembled to HBV_0.fasta\n",
      "-rwxrwxrwx 1 root root 3.8M Nov 30 11:08 DK-AID_S133_L001_R1_001 assembled to HBV_0.fasta\n",
      "-rwxrwxrwx 1 root root   83 Dec 12 11:49 test.txt\n"
     ]
    }
   ],
   "source": [
    "%%bash\n",
    "ls -lh ./data"
   ]
  },
  {
   "cell_type": "code",
   "execution_count": 24,
   "metadata": {},
   "outputs": [],
   "source": [
    "def get_ref_seq(in_file):\n",
    "    \n",
    "    with open(in_file) as in_handle:\n",
    "        for title, seq in SimpleFastaParser(in_handle):\n",
    "            ref_seq = seq\n",
    "            break\n",
    "            \n",
    "    return ref_seq\n",
    "    "
   ]
  },
  {
   "cell_type": "code",
   "execution_count": 26,
   "metadata": {},
   "outputs": [],
   "source": [
    "def count_snp_in_reads(ref_seq, in_file):\n",
    "    \n",
    "    container = []\n",
    "    \n",
    "    with open(in_file) as in_handle:\n",
    "        reads = SimpleFastaParser(in_handle)\n",
    "            \n",
    "        for record in reads:\n",
    "            read = record[1]\n",
    "            snp_counter = 0\n",
    "            for ind in range(0, len(ref_seq)):\n",
    "                if read[ind] != ref_seq[ind] and read[ind] != \"-\":\n",
    "                    snp_counter += 1\n",
    "                \n",
    "            container.append(snp_counter)\n",
    "    \n",
    "    return container\n",
    "                        \n",
    "                    \n",
    "        \n",
    "        \n",
    "        "
   ]
  },
  {
   "cell_type": "code",
   "execution_count": 83,
   "metadata": {},
   "outputs": [],
   "source": [
    "ref_seq = get_ref_seq('./data/DK-A3B_S131_L001_R2_001 assembled to HBV_0.fasta')"
   ]
  },
  {
   "cell_type": "code",
   "execution_count": 70,
   "metadata": {},
   "outputs": [
    {
     "data": {
      "text/plain": [
       "'AT-G-G-C-T-G-CTA-G-G-CTGTGCTGCCAACTGG-ATCCTGCGC----GGGAC--GTCCTTTGTTT--------ACGTC---CCGTCGGCGCTGA-ATCCT-GC--GGAC-GACCC-TT--CT-CG----------GGG-TCGCTTGG--GACTCTCTCGTCCCCT------T-CTCCGT-C---TGC-CGTTCCG-A-CC--GAC--CAC-GGG-GC-GCACCTCTCTTTACG--CGGACTCC-CC-GTCTGTGCCTTCTCAT-CTGCC-G-G--A-CC--GTG---T--G-C-A--C--T'"
      ]
     },
     "execution_count": 70,
     "metadata": {},
     "output_type": "execute_result"
    }
   ],
   "source": [
    "ref_seq"
   ]
  },
  {
   "cell_type": "code",
   "execution_count": 84,
   "metadata": {},
   "outputs": [],
   "source": [
    "snps_1 = count_snp_in_reads(ref_seq, './data/DK-A3B_S131_L001_R2_001 assembled to HBV_0.fasta')"
   ]
  },
  {
   "cell_type": "code",
   "execution_count": 31,
   "metadata": {},
   "outputs": [
    {
     "data": {
      "text/plain": [
       "[0,\n",
       " 2,\n",
       " 16,\n",
       " 5,\n",
       " 16,\n",
       " 4,\n",
       " 1,\n",
       " 2,\n",
       " 5,\n",
       " 1,\n",
       " 4,\n",
       " 2,\n",
       " 0,\n",
       " 7,\n",
       " 3,\n",
       " 16,\n",
       " 2,\n",
       " 8,\n",
       " 4,\n",
       " 38,\n",
       " 1,\n",
       " 4,\n",
       " 10,\n",
       " 4,\n",
       " 12,\n",
       " 9,\n",
       " 23,\n",
       " 0,\n",
       " 18,\n",
       " 8,\n",
       " 30,\n",
       " 2,\n",
       " 2,\n",
       " 7,\n",
       " 13,\n",
       " 10,\n",
       " 2,\n",
       " 2,\n",
       " 2,\n",
       " 1,\n",
       " 2,\n",
       " 6,\n",
       " 1,\n",
       " 0,\n",
       " 1,\n",
       " 1,\n",
       " 1,\n",
       " 21,\n",
       " 9,\n",
       " 53,\n",
       " 6,\n",
       " 9,\n",
       " 4,\n",
       " 2,\n",
       " 1,\n",
       " 2,\n",
       " 1,\n",
       " 7,\n",
       " 4,\n",
       " 5,\n",
       " 6,\n",
       " 8,\n",
       " 2,\n",
       " 17,\n",
       " 2,\n",
       " 2,\n",
       " 1,\n",
       " 5,\n",
       " 3,\n",
       " 15,\n",
       " 1,\n",
       " 1,\n",
       " 2,\n",
       " 8,\n",
       " 2,\n",
       " 13,\n",
       " 0,\n",
       " 2,\n",
       " 2,\n",
       " 1,\n",
       " 16,\n",
       " 2,\n",
       " 0,\n",
       " 23,\n",
       " 4,\n",
       " 1,\n",
       " 4,\n",
       " 3,\n",
       " 22,\n",
       " 4,\n",
       " 7,\n",
       " 9,\n",
       " 1,\n",
       " 3,\n",
       " 5,\n",
       " 12,\n",
       " 4,\n",
       " 5,\n",
       " 4,\n",
       " 2,\n",
       " 0,\n",
       " 3,\n",
       " 6,\n",
       " 4,\n",
       " 3,\n",
       " 2,\n",
       " 14,\n",
       " 1,\n",
       " 8,\n",
       " 10,\n",
       " 4,\n",
       " 1,\n",
       " 4,\n",
       " 13,\n",
       " 4,\n",
       " 5,\n",
       " 10,\n",
       " 5,\n",
       " 0,\n",
       " 26,\n",
       " 5,\n",
       " 2,\n",
       " 2,\n",
       " 17,\n",
       " 5,\n",
       " 7,\n",
       " 18,\n",
       " 5,\n",
       " 6,\n",
       " 48,\n",
       " 10,\n",
       " 8,\n",
       " 1,\n",
       " 6,\n",
       " 21,\n",
       " 3,\n",
       " 9,\n",
       " 4,\n",
       " 3,\n",
       " 8,\n",
       " 2,\n",
       " 18,\n",
       " 13,\n",
       " 2,\n",
       " 16,\n",
       " 2,\n",
       " 7,\n",
       " 8,\n",
       " 27,\n",
       " 35,\n",
       " 8,\n",
       " 49,\n",
       " 12,\n",
       " 7,\n",
       " 33,\n",
       " 11,\n",
       " 3,\n",
       " 2,\n",
       " 3,\n",
       " 4,\n",
       " 4,\n",
       " 16,\n",
       " 2,\n",
       " 4,\n",
       " 6,\n",
       " 12,\n",
       " 1,\n",
       " 5,\n",
       " 7,\n",
       " 2,\n",
       " 2,\n",
       " 3,\n",
       " 3,\n",
       " 11,\n",
       " 8,\n",
       " 17,\n",
       " 7,\n",
       " 3,\n",
       " 4,\n",
       " 0,\n",
       " 1,\n",
       " 6,\n",
       " 2,\n",
       " 2,\n",
       " 7,\n",
       " 3,\n",
       " 3,\n",
       " 10,\n",
       " 1,\n",
       " 9,\n",
       " 1,\n",
       " 1,\n",
       " 6,\n",
       " 9,\n",
       " 4,\n",
       " 4,\n",
       " 2,\n",
       " 5,\n",
       " 3,\n",
       " 3,\n",
       " 0,\n",
       " 0,\n",
       " 9,\n",
       " 27,\n",
       " 8,\n",
       " 26,\n",
       " 5,\n",
       " 4,\n",
       " 2,\n",
       " 13,\n",
       " 43,\n",
       " 23,\n",
       " 2,\n",
       " 7,\n",
       " 9,\n",
       " 5,\n",
       " 2,\n",
       " 11,\n",
       " 11,\n",
       " 10,\n",
       " 3,\n",
       " 12,\n",
       " 1,\n",
       " 8,\n",
       " 1,\n",
       " 2,\n",
       " 16,\n",
       " 5,\n",
       " 6,\n",
       " 21,\n",
       " 7,\n",
       " 6,\n",
       " 27,\n",
       " 24,\n",
       " 10,\n",
       " 3,\n",
       " 7,\n",
       " 1,\n",
       " 38,\n",
       " 2,\n",
       " 3,\n",
       " 2,\n",
       " 10,\n",
       " 4,\n",
       " 3,\n",
       " 15,\n",
       " 2,\n",
       " 0,\n",
       " 5,\n",
       " 3,\n",
       " 12,\n",
       " 3,\n",
       " 19,\n",
       " 3,\n",
       " 18,\n",
       " 7,\n",
       " 2,\n",
       " 2,\n",
       " 2,\n",
       " 2,\n",
       " 3,\n",
       " 11,\n",
       " 0,\n",
       " 7,\n",
       " 7,\n",
       " 6,\n",
       " 12,\n",
       " 18,\n",
       " 6,\n",
       " 7,\n",
       " 7,\n",
       " 38,\n",
       " 5,\n",
       " 6,\n",
       " 7,\n",
       " 3,\n",
       " 2,\n",
       " 16,\n",
       " 3,\n",
       " 18,\n",
       " 6,\n",
       " 3,\n",
       " 7,\n",
       " 5,\n",
       " 7,\n",
       " 45,\n",
       " 3,\n",
       " 15,\n",
       " 7,\n",
       " 12,\n",
       " 3,\n",
       " 26,\n",
       " 12,\n",
       " 6,\n",
       " 1,\n",
       " 3,\n",
       " 3,\n",
       " 3,\n",
       " 9,\n",
       " 7,\n",
       " 32,\n",
       " 6,\n",
       " 15,\n",
       " 6,\n",
       " 11,\n",
       " 7,\n",
       " 1,\n",
       " 3,\n",
       " 2,\n",
       " 2,\n",
       " 3,\n",
       " 15,\n",
       " 6,\n",
       " 2,\n",
       " 4,\n",
       " 4,\n",
       " 32,\n",
       " 2,\n",
       " 5,\n",
       " 2,\n",
       " 40,\n",
       " 28,\n",
       " 14,\n",
       " 8,\n",
       " 10,\n",
       " 7,\n",
       " 14,\n",
       " 2,\n",
       " 4,\n",
       " 6,\n",
       " 4,\n",
       " 6,\n",
       " 0,\n",
       " 8,\n",
       " 16,\n",
       " 32,\n",
       " 11,\n",
       " 7,\n",
       " 11,\n",
       " 6,\n",
       " 2,\n",
       " 12,\n",
       " 22,\n",
       " 7,\n",
       " 1,\n",
       " 0,\n",
       " 20,\n",
       " 3,\n",
       " 4,\n",
       " 8,\n",
       " 10,\n",
       " 5,\n",
       " 5,\n",
       " 6,\n",
       " 1,\n",
       " 3,\n",
       " 6,\n",
       " 2,\n",
       " 7,\n",
       " 3,\n",
       " 2,\n",
       " 4,\n",
       " 8,\n",
       " 3,\n",
       " 3,\n",
       " 8,\n",
       " 4,\n",
       " 2,\n",
       " 2,\n",
       " 5,\n",
       " 5,\n",
       " 1,\n",
       " 7,\n",
       " 5,\n",
       " 3,\n",
       " 2,\n",
       " 2,\n",
       " 1,\n",
       " 7,\n",
       " 18,\n",
       " 2,\n",
       " 5,\n",
       " 5,\n",
       " 4,\n",
       " 3,\n",
       " 7,\n",
       " 4,\n",
       " 3,\n",
       " 13,\n",
       " 1,\n",
       " 8,\n",
       " 17,\n",
       " 7,\n",
       " 5,\n",
       " 1,\n",
       " 1,\n",
       " 5,\n",
       " 9,\n",
       " 0,\n",
       " 3,\n",
       " 9,\n",
       " 2,\n",
       " 28,\n",
       " 11,\n",
       " 3,\n",
       " 6,\n",
       " 53,\n",
       " 3,\n",
       " 13,\n",
       " 2,\n",
       " 3,\n",
       " 3,\n",
       " 12,\n",
       " 4,\n",
       " 2,\n",
       " 3,\n",
       " 3,\n",
       " 2,\n",
       " 4,\n",
       " 2,\n",
       " 4,\n",
       " 5,\n",
       " 1,\n",
       " 11,\n",
       " 2,\n",
       " 15,\n",
       " 5,\n",
       " 3,\n",
       " 1,\n",
       " 5,\n",
       " 5,\n",
       " 2,\n",
       " 5,\n",
       " 9,\n",
       " 3,\n",
       " 9,\n",
       " 0,\n",
       " 7,\n",
       " 10,\n",
       " 5,\n",
       " 0,\n",
       " 0,\n",
       " 24,\n",
       " 3,\n",
       " 3,\n",
       " 4,\n",
       " 15,\n",
       " 1,\n",
       " 3,\n",
       " 5,\n",
       " 5,\n",
       " 12,\n",
       " 5,\n",
       " 3,\n",
       " 4,\n",
       " 4,\n",
       " 31,\n",
       " 4,\n",
       " 2,\n",
       " 20,\n",
       " 12,\n",
       " 15,\n",
       " 3,\n",
       " 8,\n",
       " 26,\n",
       " 1,\n",
       " 1,\n",
       " 3,\n",
       " 3,\n",
       " 0,\n",
       " 6,\n",
       " 12,\n",
       " 3,\n",
       " 1,\n",
       " 11,\n",
       " 13,\n",
       " 10,\n",
       " 6,\n",
       " 6,\n",
       " 2,\n",
       " 3,\n",
       " 5,\n",
       " 13,\n",
       " 3,\n",
       " 4,\n",
       " 2,\n",
       " 2,\n",
       " 1,\n",
       " 7,\n",
       " 10,\n",
       " 2,\n",
       " 4,\n",
       " 1,\n",
       " 24,\n",
       " 4,\n",
       " 11,\n",
       " 0,\n",
       " 4,\n",
       " 5,\n",
       " 9,\n",
       " 8,\n",
       " 15,\n",
       " 2,\n",
       " 6,\n",
       " 1,\n",
       " 1,\n",
       " 5,\n",
       " 3,\n",
       " 2,\n",
       " 6,\n",
       " 4,\n",
       " 7,\n",
       " 0,\n",
       " 9,\n",
       " 3,\n",
       " 8,\n",
       " 4,\n",
       " 3,\n",
       " 14,\n",
       " 13,\n",
       " 18,\n",
       " 4,\n",
       " 12,\n",
       " 1,\n",
       " 2,\n",
       " 24,\n",
       " 2,\n",
       " 7,\n",
       " 2,\n",
       " 10,\n",
       " 7,\n",
       " 4,\n",
       " 5,\n",
       " 8,\n",
       " 2,\n",
       " 1,\n",
       " 4,\n",
       " 3,\n",
       " 1,\n",
       " 4,\n",
       " 1,\n",
       " 6,\n",
       " 1,\n",
       " 11,\n",
       " 2,\n",
       " 9,\n",
       " 7,\n",
       " 6,\n",
       " 19,\n",
       " 3,\n",
       " 8,\n",
       " 6,\n",
       " 6,\n",
       " 6,\n",
       " 8,\n",
       " 6,\n",
       " 4,\n",
       " 12,\n",
       " 28,\n",
       " 5,\n",
       " 3,\n",
       " 7,\n",
       " 7,\n",
       " 22,\n",
       " 13,\n",
       " 6,\n",
       " 8,\n",
       " 4,\n",
       " 22,\n",
       " 3,\n",
       " 2,\n",
       " 7,\n",
       " 4,\n",
       " 7,\n",
       " 9,\n",
       " 22,\n",
       " 6,\n",
       " 1,\n",
       " 6,\n",
       " 12,\n",
       " 4,\n",
       " 5,\n",
       " 25,\n",
       " 5,\n",
       " 4,\n",
       " 5,\n",
       " 1,\n",
       " 6,\n",
       " 5,\n",
       " 2,\n",
       " 2,\n",
       " 2,\n",
       " 19,\n",
       " 5,\n",
       " 5,\n",
       " 3,\n",
       " 1,\n",
       " 1,\n",
       " 1,\n",
       " 4,\n",
       " 2,\n",
       " 1,\n",
       " 2,\n",
       " 1,\n",
       " 2,\n",
       " 3,\n",
       " 32,\n",
       " 1,\n",
       " 1,\n",
       " 5,\n",
       " 2,\n",
       " 7,\n",
       " 1,\n",
       " 6,\n",
       " 1,\n",
       " 2,\n",
       " 7,\n",
       " 6,\n",
       " 3,\n",
       " 3,\n",
       " 19,\n",
       " 4,\n",
       " 15,\n",
       " 2,\n",
       " 4,\n",
       " 10,\n",
       " 6,\n",
       " 2,\n",
       " 3,\n",
       " 25,\n",
       " 9,\n",
       " 5,\n",
       " 4,\n",
       " 1,\n",
       " 4,\n",
       " 1,\n",
       " 23,\n",
       " 5,\n",
       " 14,\n",
       " 2,\n",
       " 6,\n",
       " 1,\n",
       " 8,\n",
       " 3,\n",
       " 1,\n",
       " 13,\n",
       " 5,\n",
       " 5,\n",
       " 8,\n",
       " 35,\n",
       " 8,\n",
       " 4,\n",
       " 5,\n",
       " 2,\n",
       " 1,\n",
       " 2,\n",
       " 6,\n",
       " 1,\n",
       " 1,\n",
       " 9,\n",
       " 0,\n",
       " 11,\n",
       " 1,\n",
       " 7,\n",
       " 3,\n",
       " 4,\n",
       " 1,\n",
       " 3,\n",
       " 1,\n",
       " 3,\n",
       " 2,\n",
       " 24,\n",
       " 4,\n",
       " 4,\n",
       " 4,\n",
       " 1,\n",
       " 4,\n",
       " 3,\n",
       " 1,\n",
       " 5,\n",
       " 13,\n",
       " 5,\n",
       " 13,\n",
       " 4,\n",
       " 17,\n",
       " 7,\n",
       " 3,\n",
       " 2,\n",
       " 1,\n",
       " 0,\n",
       " 13,\n",
       " 1,\n",
       " 5,\n",
       " 35,\n",
       " 7,\n",
       " 3,\n",
       " 21,\n",
       " 3,\n",
       " 13,\n",
       " 5,\n",
       " 3,\n",
       " 1,\n",
       " 3,\n",
       " 6,\n",
       " 3,\n",
       " 5,\n",
       " 4,\n",
       " 22,\n",
       " 4,\n",
       " 7,\n",
       " 3,\n",
       " 1,\n",
       " 4,\n",
       " 9,\n",
       " 0,\n",
       " 1,\n",
       " 14,\n",
       " 14,\n",
       " 1,\n",
       " 9,\n",
       " 6,\n",
       " 10,\n",
       " 6,\n",
       " 3,\n",
       " 8,\n",
       " 3,\n",
       " 0,\n",
       " 3,\n",
       " 3,\n",
       " 3,\n",
       " 16,\n",
       " 0,\n",
       " 2,\n",
       " 3,\n",
       " 1,\n",
       " 2,\n",
       " 1,\n",
       " 18,\n",
       " 7,\n",
       " 6,\n",
       " 2,\n",
       " 16,\n",
       " 2,\n",
       " 15,\n",
       " 25,\n",
       " 6,\n",
       " 5,\n",
       " 1,\n",
       " 2,\n",
       " 5,\n",
       " 2,\n",
       " 4,\n",
       " 11,\n",
       " 21,\n",
       " 3,\n",
       " 2,\n",
       " 7,\n",
       " 5,\n",
       " 6,\n",
       " 8,\n",
       " 2,\n",
       " 4,\n",
       " 7,\n",
       " 2,\n",
       " 11,\n",
       " 55,\n",
       " 3,\n",
       " 11,\n",
       " 9,\n",
       " 7,\n",
       " 11,\n",
       " 7,\n",
       " 12,\n",
       " 8,\n",
       " 8,\n",
       " 4,\n",
       " 5,\n",
       " 36,\n",
       " 13,\n",
       " 10,\n",
       " 3,\n",
       " 31,\n",
       " 30,\n",
       " 6,\n",
       " 0,\n",
       " 1,\n",
       " 1,\n",
       " 5,\n",
       " 8,\n",
       " 7,\n",
       " 31,\n",
       " 4,\n",
       " 1,\n",
       " 24,\n",
       " 6,\n",
       " 8,\n",
       " 4,\n",
       " 14,\n",
       " 6,\n",
       " 1,\n",
       " 5,\n",
       " 22,\n",
       " 6,\n",
       " 15,\n",
       " 32,\n",
       " 2,\n",
       " 5,\n",
       " 5,\n",
       " 10,\n",
       " 1,\n",
       " 2,\n",
       " 37,\n",
       " 1,\n",
       " 28,\n",
       " 21,\n",
       " 1,\n",
       " 7,\n",
       " 9,\n",
       " 15,\n",
       " 24,\n",
       " 35,\n",
       " 0,\n",
       " 7,\n",
       " 2,\n",
       " 13,\n",
       " 6,\n",
       " 6,\n",
       " 1,\n",
       " 0,\n",
       " 3,\n",
       " 15,\n",
       " 29,\n",
       " 11,\n",
       " 3,\n",
       " 1,\n",
       " 31,\n",
       " 18,\n",
       " 21,\n",
       " 3,\n",
       " 3,\n",
       " 11,\n",
       " 2,\n",
       " 32,\n",
       " 2,\n",
       " 10,\n",
       " 31,\n",
       " 2,\n",
       " 0,\n",
       " 8,\n",
       " 3,\n",
       " 2,\n",
       " 9,\n",
       " 5,\n",
       " 1,\n",
       " 7,\n",
       " 2,\n",
       " 4,\n",
       " 31,\n",
       " 11,\n",
       " 1,\n",
       " 4,\n",
       " 27,\n",
       " 5,\n",
       " 8,\n",
       " 4,\n",
       " 1,\n",
       " 7,\n",
       " 7,\n",
       " 5,\n",
       " 23,\n",
       " 14,\n",
       " 4,\n",
       " 6,\n",
       " 9,\n",
       " 2,\n",
       " 0,\n",
       " 8,\n",
       " 3,\n",
       " 4,\n",
       " 7,\n",
       " 9,\n",
       " 27,\n",
       " 9,\n",
       " 19,\n",
       " 3,\n",
       " 8,\n",
       " 8,\n",
       " 17,\n",
       " 3,\n",
       " 3,\n",
       " 3,\n",
       " 2,\n",
       " 13,\n",
       " 10,\n",
       " 61,\n",
       " 2,\n",
       " 12,\n",
       " 8,\n",
       " 8,\n",
       " 10,\n",
       " 3,\n",
       " 2,\n",
       " 3,\n",
       " 7,\n",
       " 1,\n",
       " 3,\n",
       " 3,\n",
       " 9,\n",
       " 17,\n",
       " 2,\n",
       " 18,\n",
       " 6,\n",
       " 7,\n",
       " 4,\n",
       " 1,\n",
       " 3,\n",
       " 12,\n",
       " 1,\n",
       " 7,\n",
       " 3,\n",
       " 4,\n",
       " 4,\n",
       " 15,\n",
       " 2,\n",
       " 6,\n",
       " 7,\n",
       " 2,\n",
       " 6,\n",
       " 17,\n",
       " 5,\n",
       " 1,\n",
       " 7,\n",
       " 4,\n",
       " 29,\n",
       " 13,\n",
       " 1,\n",
       " 5,\n",
       " 3,\n",
       " 7,\n",
       " 7,\n",
       " 5,\n",
       " 5,\n",
       " 7,\n",
       " 4,\n",
       " 2,\n",
       " 7,\n",
       " 5,\n",
       " 1,\n",
       " 7,\n",
       " 25,\n",
       " 14,\n",
       " 1,\n",
       " 4,\n",
       " 4,\n",
       " 11,\n",
       " 27,\n",
       " 3,\n",
       " 2,\n",
       " 6,\n",
       " 6,\n",
       " 2,\n",
       " 11,\n",
       " 14,\n",
       " 5,\n",
       " 2,\n",
       " 7,\n",
       " 13,\n",
       " 20,\n",
       " 7,\n",
       " 2,\n",
       " 13,\n",
       " 2,\n",
       " 0,\n",
       " 13,\n",
       " 5,\n",
       " 4,\n",
       " 11,\n",
       " 30,\n",
       " 11,\n",
       " 6,\n",
       " 12,\n",
       " 2,\n",
       " 6,\n",
       " 4,\n",
       " 2,\n",
       " 6,\n",
       " 31,\n",
       " 5,\n",
       " 44,\n",
       " 2,\n",
       " 2,\n",
       " 5,\n",
       " 3,\n",
       " 3,\n",
       " 5,\n",
       " 14,\n",
       " 8,\n",
       " 6,\n",
       " 7,\n",
       " 5,\n",
       " ...]"
      ]
     },
     "execution_count": 31,
     "metadata": {},
     "output_type": "execute_result"
    }
   ],
   "source": [
    "snps"
   ]
  },
  {
   "cell_type": "code",
   "execution_count": null,
   "metadata": {},
   "outputs": [],
   "source": []
  },
  {
   "cell_type": "code",
   "execution_count": 47,
   "metadata": {},
   "outputs": [
    {
     "name": "stderr",
     "output_type": "stream",
     "text": [
      "C:\\Anaconda\\lib\\site-packages\\matplotlib\\axes\\_axes.py:6462: UserWarning: The 'normed' kwarg is deprecated, and has been replaced by the 'density' kwarg.\n",
      "  warnings.warn(\"The 'normed' kwarg is deprecated, and has been \"\n"
     ]
    },
    {
     "data": {
      "text/plain": [
       "<matplotlib.axes._subplots.AxesSubplot at 0x1f71e2f2940>"
      ]
     },
     "execution_count": 47,
     "metadata": {},
     "output_type": "execute_result"
    },
    {
     "data": {
      "image/png": "[encoded data removed]",
      "text/plain": [
       "<Figure size 1080x576 with 1 Axes>"
      ]
     },
     "metadata": {},
     "output_type": "display_data"
    }
   ],
   "source": [
    "plt.figure(figsize=(15, 8))\n",
    "sns.distplot(snps)"
   ]
  },
  {
   "cell_type": "code",
   "execution_count": 49,
   "metadata": {},
   "outputs": [],
   "source": [
    "snps.sort(reverse=True)"
   ]
  },
  {
   "cell_type": "code",
   "execution_count": 50,
   "metadata": {},
   "outputs": [
    {
     "name": "stdout",
     "output_type": "stream",
     "text": [
      "None\n"
     ]
    }
   ],
   "source": [
    "print(snps_sorted)"
   ]
  },
  {
   "cell_type": "code",
   "execution_count": 52,
   "metadata": {},
   "outputs": [
    {
     "data": {
      "text/plain": [
       "[<matplotlib.lines.Line2D at 0x1f71e472978>]"
      ]
     },
     "execution_count": 52,
     "metadata": {},
     "output_type": "execute_result"
    },
    {
     "data": {
      "image/png": "[encoded data removed]",
      "text/plain": [
       "<Figure size 1080x576 with 1 Axes>"
      ]
     },
     "metadata": {},
     "output_type": "display_data"
    }
   ],
   "source": [
    "plt.figure(figsize=(15,8))\n",
    "plt.plot(snps)"
   ]
  },
  {
   "cell_type": "code",
   "execution_count": 53,
   "metadata": {},
   "outputs": [
    {
     "data": {
      "text/plain": [
       "139"
      ]
     },
     "execution_count": 53,
     "metadata": {},
     "output_type": "execute_result"
    }
   ],
   "source": [
    "max(snps)"
   ]
  },
  {
   "cell_type": "code",
   "execution_count": 54,
   "metadata": {},
   "outputs": [
    {
     "data": {
      "text/plain": [
       "0"
      ]
     },
     "execution_count": 54,
     "metadata": {},
     "output_type": "execute_result"
    }
   ],
   "source": [
    "min(snps)"
   ]
  },
  {
   "cell_type": "code",
   "execution_count": 56,
   "metadata": {},
   "outputs": [],
   "source": []
  },
  {
   "cell_type": "code",
   "execution_count": 58,
   "metadata": {},
   "outputs": [
    {
     "data": {
      "text/plain": [
       "5.395833333333333"
      ]
     },
     "execution_count": 58,
     "metadata": {},
     "output_type": "execute_result"
    }
   ],
   "source": [
    "statistics.mean(snps)"
   ]
  },
  {
   "cell_type": "code",
   "execution_count": 59,
   "metadata": {},
   "outputs": [
    {
     "data": {
      "text/plain": [
       "1"
      ]
     },
     "execution_count": 59,
     "metadata": {},
     "output_type": "execute_result"
    }
   ],
   "source": [
    "statistics.mode(snps)"
   ]
  },
  {
   "cell_type": "code",
   "execution_count": null,
   "metadata": {},
   "outputs": [],
   "source": []
  },
  {
   "cell_type": "code",
   "execution_count": null,
   "metadata": {},
   "outputs": [],
   "source": []
  },
  {
   "cell_type": "code",
   "execution_count": 85,
   "metadata": {},
   "outputs": [],
   "source": [
    "ref_seq = get_ref_seq('./data/DK-A3A_S130_L001_R1_001 assembled to HBV_0.fasta')"
   ]
  },
  {
   "cell_type": "code",
   "execution_count": 86,
   "metadata": {},
   "outputs": [],
   "source": [
    "snps_2 = count_snp_in_reads(ref_seq, './data/DK-A3A_S130_L001_R1_001 assembled to HBV_0.fasta')"
   ]
  },
  {
   "cell_type": "code",
   "execution_count": 62,
   "metadata": {},
   "outputs": [
    {
     "name": "stderr",
     "output_type": "stream",
     "text": [
      "C:\\Anaconda\\lib\\site-packages\\matplotlib\\axes\\_axes.py:6462: UserWarning: The 'normed' kwarg is deprecated, and has been replaced by the 'density' kwarg.\n",
      "  warnings.warn(\"The 'normed' kwarg is deprecated, and has been \"\n"
     ]
    },
    {
     "data": {
      "text/plain": [
       "<matplotlib.axes._subplots.AxesSubplot at 0x1f71e4d8668>"
      ]
     },
     "execution_count": 62,
     "metadata": {},
     "output_type": "execute_result"
    },
    {
     "data": {
      "image/png": "[encoded data removed]",
      "text/plain": [
       "<Figure size 1080x576 with 1 Axes>"
      ]
     },
     "metadata": {},
     "output_type": "display_data"
    }
   ],
   "source": [
    "plt.figure(figsize=(15, 8))\n",
    "sns.distplot(snps)"
   ]
  },
  {
   "cell_type": "code",
   "execution_count": 90,
   "metadata": {},
   "outputs": [],
   "source": [
    "snps_1.sort(reverse=True)\n",
    "snps_2.sort(reverse=True)"
   ]
  },
  {
   "cell_type": "code",
   "execution_count": 92,
   "metadata": {},
   "outputs": [
    {
     "data": {
      "text/plain": [
       "[<matplotlib.lines.Line2D at 0x1f71e8887f0>]"
      ]
     },
     "execution_count": 92,
     "metadata": {},
     "output_type": "execute_result"
    },
    {
     "data": {
      "image/png": "[encoded data removed]",
      "text/plain": [
       "<Figure size 1080x576 with 1 Axes>"
      ]
     },
     "metadata": {},
     "output_type": "display_data"
    }
   ],
   "source": [
    "plt.figure(figsize=(15,8))\n",
    "plt.plot(snps_1)\n",
    "plt.plot(snps_2)"
   ]
  },
  {
   "cell_type": "code",
   "execution_count": null,
   "metadata": {},
   "outputs": [],
   "source": []
  },
  {
   "cell_type": "code",
   "execution_count": 63,
   "metadata": {},
   "outputs": [],
   "source": [
    "snps.sort()"
   ]
  },
  {
   "cell_type": "code",
   "execution_count": 64,
   "metadata": {
    "scrolled": true
   },
   "outputs": [
    {
     "data": {
      "text/plain": [
       "[<matplotlib.lines.Line2D at 0x1f71e74fda0>]"
      ]
     },
     "execution_count": 64,
     "metadata": {},
     "output_type": "execute_result"
    },
    {
     "data": {
      "image/png": "[encoded data removed]",
      "text/plain": [
       "<Figure size 432x288 with 1 Axes>"
      ]
     },
     "metadata": {},
     "output_type": "display_data"
    }
   ],
   "source": [
    "plt.plot(snps)"
   ]
  },
  {
   "cell_type": "code",
   "execution_count": 67,
   "metadata": {},
   "outputs": [
    {
     "data": {
      "text/plain": [
       "1.5473709142586451"
      ]
     },
     "execution_count": 67,
     "metadata": {},
     "output_type": "execute_result"
    }
   ],
   "source": [
    "statistics.mean(snps)"
   ]
  },
  {
   "cell_type": "code",
   "execution_count": 68,
   "metadata": {},
   "outputs": [
    {
     "data": {
      "text/plain": [
       "12666"
      ]
     },
     "execution_count": 68,
     "metadata": {},
     "output_type": "execute_result"
    }
   ],
   "source": [
    "len(snps)"
   ]
  },
  {
   "cell_type": "code",
   "execution_count": null,
   "metadata": {},
   "outputs": [],
   "source": []
  },
  {
   "cell_type": "code",
   "execution_count": 74,
   "metadata": {},
   "outputs": [],
   "source": [
    "from sklearn import preprocessing"
   ]
  },
  {
   "cell_type": "code",
   "execution_count": 75,
   "metadata": {},
   "outputs": [],
   "source": [
    "snp1_scaled = preprocessing.scale(snps_1)"
   ]
  },
  {
   "cell_type": "code",
   "execution_count": 77,
   "metadata": {},
   "outputs": [],
   "source": [
    "snp2_scaled = preprocessing.scale(snps_2)"
   ]
  },
  {
   "cell_type": "code",
   "execution_count": 78,
   "metadata": {},
   "outputs": [
    {
     "name": "stderr",
     "output_type": "stream",
     "text": [
      "C:\\Anaconda\\lib\\site-packages\\matplotlib\\axes\\_axes.py:6462: UserWarning: The 'normed' kwarg is deprecated, and has been replaced by the 'density' kwarg.\n",
      "  warnings.warn(\"The 'normed' kwarg is deprecated, and has been \"\n"
     ]
    },
    {
     "data": {
      "text/plain": [
       "<matplotlib.axes._subplots.AxesSubplot at 0x1f71e892908>"
      ]
     },
     "execution_count": 78,
     "metadata": {},
     "output_type": "execute_result"
    },
    {
     "data": {
      "image/png": "[encoded data removed]",
      "text/plain": [
       "<Figure size 432x288 with 1 Axes>"
      ]
     },
     "metadata": {},
     "output_type": "display_data"
    }
   ],
   "source": [
    "sns.distplot(snp1_scaled)"
   ]
  },
  {
   "cell_type": "code",
   "execution_count": 79,
   "metadata": {},
   "outputs": [
    {
     "name": "stderr",
     "output_type": "stream",
     "text": [
      "C:\\Anaconda\\lib\\site-packages\\matplotlib\\axes\\_axes.py:6462: UserWarning: The 'normed' kwarg is deprecated, and has been replaced by the 'density' kwarg.\n",
      "  warnings.warn(\"The 'normed' kwarg is deprecated, and has been \"\n"
     ]
    },
    {
     "data": {
      "text/plain": [
       "<matplotlib.axes._subplots.AxesSubplot at 0x1f71ec7a400>"
      ]
     },
     "execution_count": 79,
     "metadata": {},
     "output_type": "execute_result"
    },
    {
     "data": {
      "image/png": "[encoded data removed]",
      "text/plain": [
       "<Figure size 432x288 with 1 Axes>"
      ]
     },
     "metadata": {},
     "output_type": "display_data"
    }
   ],
   "source": [
    "sns.distplot(snp2_scaled)"
   ]
  },
  {
   "cell_type": "code",
   "execution_count": 82,
   "metadata": {},
   "outputs": [
    {
     "data": {
      "text/plain": [
       "139"
      ]
     },
     "execution_count": 82,
     "metadata": {},
     "output_type": "execute_result"
    }
   ],
   "source": [
    "max(snps_1)"
   ]
  },
  {
   "cell_type": "code",
   "execution_count": 81,
   "metadata": {},
   "outputs": [
    {
     "data": {
      "text/plain": [
       "57"
      ]
     },
     "execution_count": 81,
     "metadata": {},
     "output_type": "execute_result"
    }
   ],
   "source": [
    "max(snps_2)"
   ]
  },
  {
   "cell_type": "code",
   "execution_count": 93,
   "metadata": {},
   "outputs": [],
   "source": [
    "snp_collection = []\n",
    "snp_collection.append(snps_1)\n",
    "snp_collection.append(snps_2)"
   ]
  },
  {
   "cell_type": "code",
   "execution_count": 96,
   "metadata": {},
   "outputs": [
    {
     "data": {
      "image/png": "[encoded data removed]",
      "text/plain": [
       "<Figure size 1080x576 with 1 Axes>"
      ]
     },
     "metadata": {},
     "output_type": "display_data"
    }
   ],
   "source": [
    "plt.figure(figsize=(15, 8))\n",
    "plt.boxplot(snp_collection)\n",
    "plt.show()"
   ]
  },
  {
   "cell_type": "code",
   "execution_count": 102,
   "metadata": {},
   "outputs": [
    {
     "data": {
      "text/plain": [
       "<matplotlib.axes._subplots.AxesSubplot at 0x1f72057d9b0>"
      ]
     },
     "execution_count": 102,
     "metadata": {},
     "output_type": "execute_result"
    },
    {
     "data": {
      "image/png": "[encoded data removed]",
      "text/plain": [
       "<Figure size 432x288 with 1 Axes>"
      ]
     },
     "metadata": {},
     "output_type": "display_data"
    }
   ],
   "source": [
    "sns.boxplot(snps_1)"
   ]
  },
  {
   "cell_type": "code",
   "execution_count": 104,
   "metadata": {},
   "outputs": [
    {
     "data": {
      "text/plain": [
       "<matplotlib.axes._subplots.AxesSubplot at 0x1f7206ff048>"
      ]
     },
     "execution_count": 104,
     "metadata": {},
     "output_type": "execute_result"
    },
    {
     "data": {
      "image/png": "[encoded data removed]",
      "text/plain": [
       "<Figure size 432x288 with 1 Axes>"
      ]
     },
     "metadata": {},
     "output_type": "display_data"
    }
   ],
   "source": [
    "sns.stripplot(snps_1)"
   ]
  },
  {
   "cell_type": "code",
   "execution_count": 105,
   "metadata": {},
   "outputs": [
    {
     "data": {
      "text/plain": [
       "<matplotlib.axes._subplots.AxesSubplot at 0x1f7207459e8>"
      ]
     },
     "execution_count": 105,
     "metadata": {},
     "output_type": "execute_result"
    },
    {
     "data": {
      "image/png": "[encoded data removed]",
      "text/plain": [
       "<Figure size 432x288 with 1 Axes>"
      ]
     },
     "metadata": {},
     "output_type": "display_data"
    }
   ],
   "source": [
    "sns.stripplot(snps_2)"
   ]
  },
  {
   "cell_type": "code",
   "execution_count": 107,
   "metadata": {},
   "outputs": [
    {
     "ename": "ValueError",
     "evalue": "setting an array element with a sequence.",
     "output_type": "error",
     "traceback": [
      "\u001b[1;31m---------------------------------------------------------------------------\u001b[0m",
      "\u001b[1;31mValueError\u001b[0m                                Traceback (most recent call last)",
      "\u001b[1;32m<ipython-input-107-3a7166c445e5>\u001b[0m in \u001b[0;36m<module>\u001b[1;34m()\u001b[0m\n\u001b[1;32m----> 1\u001b[1;33m \u001b[0mplt\u001b[0m\u001b[1;33m.\u001b[0m\u001b[0mscatter\u001b[0m\u001b[1;33m(\u001b[0m\u001b[1;33m[\u001b[0m\u001b[1;34m'1'\u001b[0m\u001b[1;33m,\u001b[0m \u001b[1;34m'2'\u001b[0m\u001b[1;33m]\u001b[0m\u001b[1;33m,\u001b[0m \u001b[0msnp_collection\u001b[0m\u001b[1;33m)\u001b[0m\u001b[1;33m\u001b[0m\u001b[0m\n\u001b[0m",
      "\u001b[1;32mC:\\Anaconda\\lib\\site-packages\\matplotlib\\pyplot.py\u001b[0m in \u001b[0;36mscatter\u001b[1;34m(x, y, s, c, marker, cmap, norm, vmin, vmax, alpha, linewidths, verts, edgecolors, hold, data, **kwargs)\u001b[0m\n\u001b[0;32m   3468\u001b[0m                          \u001b[0mvmin\u001b[0m\u001b[1;33m=\u001b[0m\u001b[0mvmin\u001b[0m\u001b[1;33m,\u001b[0m \u001b[0mvmax\u001b[0m\u001b[1;33m=\u001b[0m\u001b[0mvmax\u001b[0m\u001b[1;33m,\u001b[0m \u001b[0malpha\u001b[0m\u001b[1;33m=\u001b[0m\u001b[0malpha\u001b[0m\u001b[1;33m,\u001b[0m\u001b[1;33m\u001b[0m\u001b[0m\n\u001b[0;32m   3469\u001b[0m                          \u001b[0mlinewidths\u001b[0m\u001b[1;33m=\u001b[0m\u001b[0mlinewidths\u001b[0m\u001b[1;33m,\u001b[0m \u001b[0mverts\u001b[0m\u001b[1;33m=\u001b[0m\u001b[0mverts\u001b[0m\u001b[1;33m,\u001b[0m\u001b[1;33m\u001b[0m\u001b[0m\n\u001b[1;32m-> 3470\u001b[1;33m                          edgecolors=edgecolors, data=data, **kwargs)\n\u001b[0m\u001b[0;32m   3471\u001b[0m     \u001b[1;32mfinally\u001b[0m\u001b[1;33m:\u001b[0m\u001b[1;33m\u001b[0m\u001b[0m\n\u001b[0;32m   3472\u001b[0m         \u001b[0max\u001b[0m\u001b[1;33m.\u001b[0m\u001b[0m_hold\u001b[0m \u001b[1;33m=\u001b[0m \u001b[0mwashold\u001b[0m\u001b[1;33m\u001b[0m\u001b[0m\n",
      "\u001b[1;32mC:\\Anaconda\\lib\\site-packages\\matplotlib\\__init__.py\u001b[0m in \u001b[0;36minner\u001b[1;34m(ax, *args, **kwargs)\u001b[0m\n\u001b[0;32m   1853\u001b[0m                         \u001b[1;34m\"the Matplotlib list!)\"\u001b[0m \u001b[1;33m%\u001b[0m \u001b[1;33m(\u001b[0m\u001b[0mlabel_namer\u001b[0m\u001b[1;33m,\u001b[0m \u001b[0mfunc\u001b[0m\u001b[1;33m.\u001b[0m\u001b[0m__name__\u001b[0m\u001b[1;33m)\u001b[0m\u001b[1;33m,\u001b[0m\u001b[1;33m\u001b[0m\u001b[0m\n\u001b[0;32m   1854\u001b[0m                         RuntimeWarning, stacklevel=2)\n\u001b[1;32m-> 1855\u001b[1;33m             \u001b[1;32mreturn\u001b[0m \u001b[0mfunc\u001b[0m\u001b[1;33m(\u001b[0m\u001b[0max\u001b[0m\u001b[1;33m,\u001b[0m \u001b[1;33m*\u001b[0m\u001b[0margs\u001b[0m\u001b[1;33m,\u001b[0m \u001b[1;33m**\u001b[0m\u001b[0mkwargs\u001b[0m\u001b[1;33m)\u001b[0m\u001b[1;33m\u001b[0m\u001b[0m\n\u001b[0m\u001b[0;32m   1856\u001b[0m \u001b[1;33m\u001b[0m\u001b[0m\n\u001b[0;32m   1857\u001b[0m         inner.__doc__ = _add_data_doc(inner.__doc__,\n",
      "\u001b[1;32mC:\\Anaconda\\lib\\site-packages\\matplotlib\\axes\\_axes.py\u001b[0m in \u001b[0;36mscatter\u001b[1;34m(self, x, y, s, c, marker, cmap, norm, vmin, vmax, alpha, linewidths, verts, edgecolors, **kwargs)\u001b[0m\n\u001b[0;32m   4318\u001b[0m                 \u001b[0moffsets\u001b[0m\u001b[1;33m=\u001b[0m\u001b[0moffsets\u001b[0m\u001b[1;33m,\u001b[0m\u001b[1;33m\u001b[0m\u001b[0m\n\u001b[0;32m   4319\u001b[0m                 \u001b[0mtransOffset\u001b[0m\u001b[1;33m=\u001b[0m\u001b[0mkwargs\u001b[0m\u001b[1;33m.\u001b[0m\u001b[0mpop\u001b[0m\u001b[1;33m(\u001b[0m\u001b[1;34m'transform'\u001b[0m\u001b[1;33m,\u001b[0m \u001b[0mself\u001b[0m\u001b[1;33m.\u001b[0m\u001b[0mtransData\u001b[0m\u001b[1;33m)\u001b[0m\u001b[1;33m,\u001b[0m\u001b[1;33m\u001b[0m\u001b[0m\n\u001b[1;32m-> 4320\u001b[1;33m                 \u001b[0malpha\u001b[0m\u001b[1;33m=\u001b[0m\u001b[0malpha\u001b[0m\u001b[1;33m\u001b[0m\u001b[0m\n\u001b[0m\u001b[0;32m   4321\u001b[0m                 )\n\u001b[0;32m   4322\u001b[0m         \u001b[0mcollection\u001b[0m\u001b[1;33m.\u001b[0m\u001b[0mset_transform\u001b[0m\u001b[1;33m(\u001b[0m\u001b[0mmtransforms\u001b[0m\u001b[1;33m.\u001b[0m\u001b[0mIdentityTransform\u001b[0m\u001b[1;33m(\u001b[0m\u001b[1;33m)\u001b[0m\u001b[1;33m)\u001b[0m\u001b[1;33m\u001b[0m\u001b[0m\n",
      "\u001b[1;32mC:\\Anaconda\\lib\\site-packages\\matplotlib\\collections.py\u001b[0m in \u001b[0;36m__init__\u001b[1;34m(self, paths, sizes, **kwargs)\u001b[0m\n\u001b[0;32m    925\u001b[0m         \"\"\"\n\u001b[0;32m    926\u001b[0m \u001b[1;33m\u001b[0m\u001b[0m\n\u001b[1;32m--> 927\u001b[1;33m         \u001b[0mCollection\u001b[0m\u001b[1;33m.\u001b[0m\u001b[0m__init__\u001b[0m\u001b[1;33m(\u001b[0m\u001b[0mself\u001b[0m\u001b[1;33m,\u001b[0m \u001b[1;33m**\u001b[0m\u001b[0mkwargs\u001b[0m\u001b[1;33m)\u001b[0m\u001b[1;33m\u001b[0m\u001b[0m\n\u001b[0m\u001b[0;32m    928\u001b[0m         \u001b[0mself\u001b[0m\u001b[1;33m.\u001b[0m\u001b[0mset_paths\u001b[0m\u001b[1;33m(\u001b[0m\u001b[0mpaths\u001b[0m\u001b[1;33m)\u001b[0m\u001b[1;33m\u001b[0m\u001b[0m\n\u001b[0;32m    929\u001b[0m         \u001b[0mself\u001b[0m\u001b[1;33m.\u001b[0m\u001b[0mset_sizes\u001b[0m\u001b[1;33m(\u001b[0m\u001b[0msizes\u001b[0m\u001b[1;33m)\u001b[0m\u001b[1;33m\u001b[0m\u001b[0m\n",
      "\u001b[1;32mC:\\Anaconda\\lib\\site-packages\\matplotlib\\collections.py\u001b[0m in \u001b[0;36m__init__\u001b[1;34m(self, edgecolors, facecolors, linewidths, linestyles, capstyle, joinstyle, antialiaseds, offsets, transOffset, norm, cmap, pickradius, hatch, urls, offset_position, zorder, **kwargs)\u001b[0m\n\u001b[0;32m    157\u001b[0m         \u001b[0mself\u001b[0m\u001b[1;33m.\u001b[0m\u001b[0m_uniform_offsets\u001b[0m \u001b[1;33m=\u001b[0m \u001b[1;32mNone\u001b[0m\u001b[1;33m\u001b[0m\u001b[0m\n\u001b[0;32m    158\u001b[0m         \u001b[1;32mif\u001b[0m \u001b[0moffsets\u001b[0m \u001b[1;32mis\u001b[0m \u001b[1;32mnot\u001b[0m \u001b[1;32mNone\u001b[0m\u001b[1;33m:\u001b[0m\u001b[1;33m\u001b[0m\u001b[0m\n\u001b[1;32m--> 159\u001b[1;33m             \u001b[0moffsets\u001b[0m \u001b[1;33m=\u001b[0m \u001b[0mnp\u001b[0m\u001b[1;33m.\u001b[0m\u001b[0masanyarray\u001b[0m\u001b[1;33m(\u001b[0m\u001b[0moffsets\u001b[0m\u001b[1;33m,\u001b[0m \u001b[0mfloat\u001b[0m\u001b[1;33m)\u001b[0m\u001b[1;33m\u001b[0m\u001b[0m\n\u001b[0m\u001b[0;32m    160\u001b[0m             \u001b[1;31m# Broadcast (2,) -> (1, 2) but nothing else.\u001b[0m\u001b[1;33m\u001b[0m\u001b[1;33m\u001b[0m\u001b[0m\n\u001b[0;32m    161\u001b[0m             \u001b[1;32mif\u001b[0m \u001b[0moffsets\u001b[0m\u001b[1;33m.\u001b[0m\u001b[0mshape\u001b[0m \u001b[1;33m==\u001b[0m \u001b[1;33m(\u001b[0m\u001b[1;36m2\u001b[0m\u001b[1;33m,\u001b[0m\u001b[1;33m)\u001b[0m\u001b[1;33m:\u001b[0m\u001b[1;33m\u001b[0m\u001b[0m\n",
      "\u001b[1;32mC:\\Anaconda\\lib\\site-packages\\numpy\\core\\numeric.py\u001b[0m in \u001b[0;36masanyarray\u001b[1;34m(a, dtype, order)\u001b[0m\n\u001b[0;32m    542\u001b[0m \u001b[1;33m\u001b[0m\u001b[0m\n\u001b[0;32m    543\u001b[0m     \"\"\"\n\u001b[1;32m--> 544\u001b[1;33m     \u001b[1;32mreturn\u001b[0m \u001b[0marray\u001b[0m\u001b[1;33m(\u001b[0m\u001b[0ma\u001b[0m\u001b[1;33m,\u001b[0m \u001b[0mdtype\u001b[0m\u001b[1;33m,\u001b[0m \u001b[0mcopy\u001b[0m\u001b[1;33m=\u001b[0m\u001b[1;32mFalse\u001b[0m\u001b[1;33m,\u001b[0m \u001b[0morder\u001b[0m\u001b[1;33m=\u001b[0m\u001b[0morder\u001b[0m\u001b[1;33m,\u001b[0m \u001b[0msubok\u001b[0m\u001b[1;33m=\u001b[0m\u001b[1;32mTrue\u001b[0m\u001b[1;33m)\u001b[0m\u001b[1;33m\u001b[0m\u001b[0m\n\u001b[0m\u001b[0;32m    545\u001b[0m \u001b[1;33m\u001b[0m\u001b[0m\n\u001b[0;32m    546\u001b[0m \u001b[1;33m\u001b[0m\u001b[0m\n",
      "\u001b[1;31mValueError\u001b[0m: setting an array element with a sequence."
     ]
    },
    {
     "data": {
      "image/png": "[encoded data removed]",
      "text/plain": [
       "<Figure size 432x288 with 1 Axes>"
      ]
     },
     "metadata": {},
     "output_type": "display_data"
    }
   ],
   "source": [
    "plt.scatter(['1', '2'], snp_collection)"
   ]
  },
  {
   "cell_type": "code",
   "execution_count": null,
   "metadata": {},
   "outputs": [],
   "source": []
  },
  {
   "cell_type": "code",
   "execution_count": null,
   "metadata": {},
   "outputs": [],
   "source": []
  },
  {
   "cell_type": "code",
   "execution_count": 109,
   "metadata": {},
   "outputs": [],
   "source": [
    "df = pd.DataFrame(snp_collection)"
   ]
  },
  {
   "cell_type": "code",
   "execution_count": 111,
   "metadata": {},
   "outputs": [],
   "source": [
    "df = df.T"
   ]
  },
  {
   "cell_type": "code",
   "execution_count": 114,
   "metadata": {},
   "outputs": [
    {
     "data": {
      "text/html": [
       "<div>\n",
       "<style scoped>\n",
       "    .dataframe tbody tr th:only-of-type {\n",
       "        vertical-align: middle;\n",
       "    }\n",
       "\n",
       "    .dataframe tbody tr th {\n",
       "        vertical-align: top;\n",
       "    }\n",
       "\n",
       "    .dataframe thead th {\n",
       "        text-align: right;\n",
       "    }\n",
       "</style>\n",
       "<table border=\"1\" class=\"dataframe\">\n",
       "  <thead>\n",
       "    <tr style=\"text-align: right;\">\n",
       "      <th></th>\n",
       "      <th>0</th>\n",
       "      <th>1</th>\n",
       "    </tr>\n",
       "  </thead>\n",
       "  <tbody>\n",
       "    <tr>\n",
       "      <th>0</th>\n",
       "      <td>139.0</td>\n",
       "      <td>57.0</td>\n",
       "    </tr>\n",
       "    <tr>\n",
       "      <th>1</th>\n",
       "      <td>112.0</td>\n",
       "      <td>53.0</td>\n",
       "    </tr>\n",
       "    <tr>\n",
       "      <th>2</th>\n",
       "      <td>109.0</td>\n",
       "      <td>49.0</td>\n",
       "    </tr>\n",
       "    <tr>\n",
       "      <th>3</th>\n",
       "      <td>103.0</td>\n",
       "      <td>48.0</td>\n",
       "    </tr>\n",
       "    <tr>\n",
       "      <th>4</th>\n",
       "      <td>98.0</td>\n",
       "      <td>48.0</td>\n",
       "    </tr>\n",
       "  </tbody>\n",
       "</table>\n",
       "</div>"
      ],
      "text/plain": [
       "       0     1\n",
       "0  139.0  57.0\n",
       "1  112.0  53.0\n",
       "2  109.0  49.0\n",
       "3  103.0  48.0\n",
       "4   98.0  48.0"
      ]
     },
     "execution_count": 114,
     "metadata": {},
     "output_type": "execute_result"
    }
   ],
   "source": [
    "df.head()\n"
   ]
  },
  {
   "cell_type": "code",
   "execution_count": 115,
   "metadata": {},
   "outputs": [
    {
     "data": {
      "text/plain": [
       "<matplotlib.axes._subplots.AxesSubplot at 0x1f720186588>"
      ]
     },
     "execution_count": 115,
     "metadata": {},
     "output_type": "execute_result"
    },
    {
     "data": {
      "image/png": "[encoded data removed]",
      "text/plain": [
       "<Figure size 432x288 with 1 Axes>"
      ]
     },
     "metadata": {},
     "output_type": "display_data"
    }
   ],
   "source": [
    "sns.boxplot(x=df[0])"
   ]
  },
  {
   "cell_type": "code",
   "execution_count": 116,
   "metadata": {},
   "outputs": [
    {
     "data": {
      "text/plain": [
       "<matplotlib.axes._subplots.AxesSubplot at 0x1f72028bd30>"
      ]
     },
     "execution_count": 116,
     "metadata": {},
     "output_type": "execute_result"
    },
    {
     "data": {
      "image/png": "[encoded data removed]",
      "text/plain": [
       "<Figure size 432x288 with 1 Axes>"
      ]
     },
     "metadata": {},
     "output_type": "display_data"
    }
   ],
   "source": [
    "sns.boxplot(x=df[1])"
   ]
  },
  {
   "cell_type": "code",
   "execution_count": 119,
   "metadata": {},
   "outputs": [
    {
     "data": {
      "text/plain": [
       "<matplotlib.axes._subplots.AxesSubplot at 0x1f7201db390>"
      ]
     },
     "execution_count": 119,
     "metadata": {},
     "output_type": "execute_result"
    },
    {
     "data": {
      "image/png": "[encoded data removed]",
      "text/plain": [
       "<Figure size 432x288 with 1 Axes>"
      ]
     },
     "metadata": {},
     "output_type": "display_data"
    }
   ],
   "source": [
    "sns.boxplot(data=df.loc[:,:])"
   ]
  },
  {
   "cell_type": "code",
   "execution_count": 120,
   "metadata": {},
   "outputs": [
    {
     "data": {
      "text/plain": [
       "<matplotlib.axes._subplots.AxesSubplot at 0x1f72078a828>"
      ]
     },
     "execution_count": 120,
     "metadata": {},
     "output_type": "execute_result"
    },
    {
     "data": {
      "image/png": "[encoded data removed]",
      "text/plain": [
       "<Figure size 432x288 with 1 Axes>"
      ]
     },
     "metadata": {},
     "output_type": "display_data"
    }
   ],
   "source": [
    "sns.stripplot(data=df.loc[:,:])"
   ]
  },
  {
   "cell_type": "code",
   "execution_count": null,
   "metadata": {},
   "outputs": [],
   "source": []
  },
  {
   "cell_type": "code",
   "execution_count": null,
   "metadata": {},
   "outputs": [],
   "source": []
  },
  {
   "cell_type": "code",
   "execution_count": null,
   "metadata": {},
   "outputs": [],
   "source": []
  },
  {
   "cell_type": "code",
   "execution_count": null,
   "metadata": {},
   "outputs": [],
   "source": []
  },
  {
   "cell_type": "code",
   "execution_count": null,
   "metadata": {},
   "outputs": [],
   "source": []
  },
  {
   "cell_type": "code",
   "execution_count": null,
   "metadata": {},
   "outputs": [],
   "source": []
  },
  {
   "cell_type": "code",
   "execution_count": null,
   "metadata": {},
   "outputs": [],
   "source": []
  },
  {
   "cell_type": "code",
   "execution_count": null,
   "metadata": {},
   "outputs": [],
   "source": []
  },
  {
   "cell_type": "code",
   "execution_count": null,
   "metadata": {},
   "outputs": [],
   "source": []
  },
  {
   "cell_type": "code",
   "execution_count": null,
   "metadata": {},
   "outputs": [],
   "source": []
  },
  {
   "cell_type": "code",
   "execution_count": null,
   "metadata": {},
   "outputs": [],
   "source": []
  },
  {
   "cell_type": "code",
   "execution_count": null,
   "metadata": {},
   "outputs": [],
   "source": []
  },
  {
   "cell_type": "code",
   "execution_count": null,
   "metadata": {},
   "outputs": [],
   "source": []
  },
  {
   "cell_type": "code",
   "execution_count": null,
   "metadata": {},
   "outputs": [],
   "source": []
  }
 ],
 "metadata": {
  "kernelspec": {
   "display_name": "Python 3",
   "language": "python",
   "name": "python3"
  },
  "language_info": {
   "codemirror_mode": {
    "name": "ipython",
    "version": 3
   },
   "file_extension": ".py",
   "mimetype": "text/x-python",
   "name": "python",
   "nbconvert_exporter": "python",
   "pygments_lexer": "ipython3",
   "version": "3.6.5"
  }
 },
 "nbformat": 4,
 "nbformat_minor": 2
}
